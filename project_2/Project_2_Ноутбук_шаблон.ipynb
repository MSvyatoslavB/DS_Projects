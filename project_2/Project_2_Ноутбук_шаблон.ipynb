{
  "cells": [
    {
      "cell_type": "markdown",
      "id": "42289889-bd57-434e-9637-d3e354756316",
      "metadata": {
        "id": "42289889-bd57-434e-9637-d3e354756316"
      },
      "source": [
        "<center> <img src = https://raw.githubusercontent.com/AndreyRysistov/DatasetsForPandas/main/hh%20label.jpg alt=\"drawing\" style=\"width:400px;\">"
      ]
    },
    {
      "cell_type": "markdown",
      "id": "829cb75b-f14e-4ba8-9195-7ba929a7d656",
      "metadata": {
        "id": "829cb75b-f14e-4ba8-9195-7ba929a7d656",
        "tags": []
      },
      "source": [
        "# <center> Проект: Анализ вакансий из HeadHunter\n",
        "   "
      ]
    },
    {
      "cell_type": "code",
      "execution_count": 12,
      "id": "dccfde33-2452-43fb-a8a5-5c6ebc02a71d",
      "metadata": {
        "id": "dccfde33-2452-43fb-a8a5-5c6ebc02a71d"
      },
      "outputs": [],
      "source": [
        "import pandas as pd\n",
        "import psycopg2\n",
        "import requests\n",
        "from sqlalchemy import create_engine, exc, text\n",
        "import urllib.parse as req\n",
        "import xml.etree.ElementTree as ET\n"
      ]
    },
    {
      "cell_type": "code",
      "execution_count": 66,
      "id": "oVKH4ehvf8Ay",
      "metadata": {
        "id": "oVKH4ehvf8Ay"
      },
      "outputs": [],
      "source": [
        "# вставьте сюда параметры подключения из юнита 1. Работа с базой данных из Python\n",
        "\n"
      ]
    },
    {
      "cell_type": "code",
      "execution_count": 18,
      "id": "G4X_q8KBf7SF",
      "metadata": {
        "id": "G4X_q8KBf7SF"
      },
      "outputs": [
        {
          "data": {
            "text/plain": [
              "'XML-файл обнаружен!'"
            ]
          },
          "metadata": {},
          "output_type": "display_data"
        },
        {
          "data": {
            "text/plain": [
              "'База данных подключена!'"
            ]
          },
          "metadata": {},
          "output_type": "display_data"
        }
      ],
      "source": [
        "# connection = psycopg2.connect(\n",
        "#     dbname=DBNAME,\n",
        "#     user=USER,\n",
        "#     host=HOST,\n",
        "#     password=PASSWORD,\n",
        "#     port=PORT\n",
        "# )\n",
        "try:  # попытка прочитать файл\n",
        "    tree = ET.parse('con_str.xml') # читаем xml-файл\n",
        "    root = tree.getroot()\n",
        "    display('XML-файл обнаружен!')\n",
        "except FileNotFoundError:  # если попытка не удалась\n",
        "    display('Файл подключения к базе данных не найден!')  # выводим сообщение\n",
        "\n",
        "try:  # попытка подключения к базе данных\n",
        "    engine = create_engine(\n",
        "        f'postgresql+psycopg2://{root[1].text}:{root[2].text}@{root[3].text}:{root[4].text}/{root[0].text}') # создаем строку подключения к базе данных\n",
        "    connection = engine.connect()\n",
        "    display('База данных подключена!')\n",
        "except exc.SQLAlchemyError:  # если попытка не удалась\n",
        "    display('Отсутствует подлкючение к базе данных!') # выводим сообщение\n"
      ]
    },
    {
      "cell_type": "markdown",
      "id": "0dc6476b-7a00-44f1-ac93-6e3baed33a29",
      "metadata": {
        "id": "0dc6476b-7a00-44f1-ac93-6e3baed33a29"
      },
      "source": [
        "# Юнит 3. Предварительный анализ данных"
      ]
    },
    {
      "cell_type": "markdown",
      "id": "889782b6-8d1c-410e-8920-e57f27917c64",
      "metadata": {
        "id": "889782b6-8d1c-410e-8920-e57f27917c64"
      },
      "source": [
        "1. Напишите запрос, который посчитает количество вакансий в нашей базе (вакансии находятся в таблице vacancies). "
      ]
    },
    {
      "cell_type": "code",
      "execution_count": 36,
      "id": "bc39e68e-ed02-4ee2-9235-7258a2f867a8",
      "metadata": {
        "id": "bc39e68e-ed02-4ee2-9235-7258a2f867a8"
      },
      "outputs": [],
      "source": [
        "# текст запроса\n",
        "query_3_1 = f'''\n",
        "SELECT\n",
        "  COUNT(1) AS \"Количество вакансий\" /*подсчет всех строк и назначение алиаса*/\n",
        "FROM\n",
        "  public.vacancies /*из таблицы вакансий*/\n",
        "'''\n"
      ]
    },
    {
      "cell_type": "code",
      "execution_count": 49,
      "id": "7mAwtsk4hEHY",
      "metadata": {
        "id": "7mAwtsk4hEHY"
      },
      "outputs": [
        {
          "data": {
            "text/html": [
              "<div>\n",
              "<style scoped>\n",
              "    .dataframe tbody tr th:only-of-type {\n",
              "        vertical-align: middle;\n",
              "    }\n",
              "\n",
              "    .dataframe tbody tr th {\n",
              "        vertical-align: top;\n",
              "    }\n",
              "\n",
              "    .dataframe thead th {\n",
              "        text-align: right;\n",
              "    }\n",
              "</style>\n",
              "<table border=\"1\" class=\"dataframe\">\n",
              "  <thead>\n",
              "    <tr style=\"text-align: right;\">\n",
              "      <th></th>\n",
              "      <th>Количество вакансий</th>\n",
              "    </tr>\n",
              "  </thead>\n",
              "  <tbody>\n",
              "    <tr>\n",
              "      <th>0</th>\n",
              "      <td>49197</td>\n",
              "    </tr>\n",
              "  </tbody>\n",
              "</table>\n",
              "</div>"
            ],
            "text/plain": [
              "   Количество вакансий\n",
              "0                49197"
            ]
          },
          "metadata": {},
          "output_type": "display_data"
        }
      ],
      "source": [
        "# результат запроса\n",
        "try:  # попытка выполнить запрос\n",
        "    # сохраняем в dataframe\n",
        "    df = pd.DataFrame(connection.execute(text(query_3_1)).fetchall())\n",
        "    display(df)  # выводим datafrane\n",
        "except exc.SQLAlchemyError:  # если попытка не удалась\n",
        "    display('Запрос к базе данных не выполнен!')  # выводим сообщение\n"
      ]
    },
    {
      "cell_type": "markdown",
      "id": "b583485d-1f9e-494e-ada4-80ffff7c53d6",
      "metadata": {
        "id": "b583485d-1f9e-494e-ada4-80ffff7c53d6"
      },
      "source": [
        "2. Напишите запрос, который посчитает количество работодателей (таблица employers). "
      ]
    },
    {
      "cell_type": "code",
      "execution_count": 38,
      "id": "5408c52c-3407-4a63-b25b-1aafa2322d28",
      "metadata": {
        "id": "5408c52c-3407-4a63-b25b-1aafa2322d28"
      },
      "outputs": [],
      "source": [
        "# текст запроса\n",
        "query_3_2 = f'''\n",
        "SELECT\n",
        "  COUNT(1) AS \"Количество работодателей\" /*подсчет всех строк и назначение алиаса*/\n",
        "FROM\n",
        "  public.employers /*из таблицы работодателей*/\n",
        "'''\n"
      ]
    },
    {
      "cell_type": "code",
      "execution_count": 50,
      "id": "jVL4eshKhdqc",
      "metadata": {
        "id": "jVL4eshKhdqc"
      },
      "outputs": [
        {
          "data": {
            "text/html": [
              "<div>\n",
              "<style scoped>\n",
              "    .dataframe tbody tr th:only-of-type {\n",
              "        vertical-align: middle;\n",
              "    }\n",
              "\n",
              "    .dataframe tbody tr th {\n",
              "        vertical-align: top;\n",
              "    }\n",
              "\n",
              "    .dataframe thead th {\n",
              "        text-align: right;\n",
              "    }\n",
              "</style>\n",
              "<table border=\"1\" class=\"dataframe\">\n",
              "  <thead>\n",
              "    <tr style=\"text-align: right;\">\n",
              "      <th></th>\n",
              "      <th>Количество работодателей</th>\n",
              "    </tr>\n",
              "  </thead>\n",
              "  <tbody>\n",
              "    <tr>\n",
              "      <th>0</th>\n",
              "      <td>23501</td>\n",
              "    </tr>\n",
              "  </tbody>\n",
              "</table>\n",
              "</div>"
            ],
            "text/plain": [
              "   Количество работодателей\n",
              "0                     23501"
            ]
          },
          "metadata": {},
          "output_type": "display_data"
        }
      ],
      "source": [
        "# результат запроса\n",
        "try:  # попытка выполнить запрос\n",
        "    # сохраняем в dataframe\n",
        "    df = pd.DataFrame(connection.execute(text(query_3_2)).fetchall())\n",
        "    display(df)  # выводим dataframe\n",
        "except exc.SQLAlchemyError:  # если не получилось выполнить запрос\n",
        "    display('Запрос к базе данных не выполнен!')  # выводим сообщение\n"
      ]
    },
    {
      "cell_type": "markdown",
      "id": "a2bfff1f-c975-4bf6-84be-2185d79dcb76",
      "metadata": {
        "id": "a2bfff1f-c975-4bf6-84be-2185d79dcb76"
      },
      "source": [
        "3. Посчитате с помощью запроса количество регионов (таблица areas)."
      ]
    },
    {
      "cell_type": "code",
      "execution_count": 44,
      "id": "1m8QJwBYhey6",
      "metadata": {
        "id": "1m8QJwBYhey6"
      },
      "outputs": [],
      "source": [
        "# текст запроса\n",
        "query_3_3 = f'''\n",
        "SELECT\n",
        "  COUNT(1) AS \"Количество регионов\" /*подсчет всех строк и назначение алиаса*/\n",
        "FROM\n",
        "  public.areas /*из таблицы регионов*/\n",
        "'''\n"
      ]
    },
    {
      "cell_type": "code",
      "execution_count": 51,
      "id": "EZsn9tlfhe7f",
      "metadata": {
        "id": "EZsn9tlfhe7f"
      },
      "outputs": [
        {
          "data": {
            "text/html": [
              "<div>\n",
              "<style scoped>\n",
              "    .dataframe tbody tr th:only-of-type {\n",
              "        vertical-align: middle;\n",
              "    }\n",
              "\n",
              "    .dataframe tbody tr th {\n",
              "        vertical-align: top;\n",
              "    }\n",
              "\n",
              "    .dataframe thead th {\n",
              "        text-align: right;\n",
              "    }\n",
              "</style>\n",
              "<table border=\"1\" class=\"dataframe\">\n",
              "  <thead>\n",
              "    <tr style=\"text-align: right;\">\n",
              "      <th></th>\n",
              "      <th>Количество регионов</th>\n",
              "    </tr>\n",
              "  </thead>\n",
              "  <tbody>\n",
              "    <tr>\n",
              "      <th>0</th>\n",
              "      <td>1362</td>\n",
              "    </tr>\n",
              "  </tbody>\n",
              "</table>\n",
              "</div>"
            ],
            "text/plain": [
              "   Количество регионов\n",
              "0                 1362"
            ]
          },
          "metadata": {},
          "output_type": "display_data"
        }
      ],
      "source": [
        "# результат запроса\n",
        "try:  # попытка выполнить запрос\n",
        "    # сохраняем в dataframe\n",
        "    df = pd.DataFrame(connection.execute(text(query_3_3)).fetchall())\n",
        "    display(df)  # выводим dataframe\n",
        "except exc.SQLAlchemyError:  # если не получилось выполнить запрос\n",
        "    display('Запрос к базе данных не выполнен!')  # выводим сообщение\n"
      ]
    },
    {
      "cell_type": "markdown",
      "id": "41bb59f3-53cc-4a67-a5bc-bedf573955e4",
      "metadata": {
        "id": "41bb59f3-53cc-4a67-a5bc-bedf573955e4"
      },
      "source": [
        "4. Посчитате с помощью запроса количество сфер деятельности в базе (таблица industries)."
      ]
    },
    {
      "cell_type": "code",
      "execution_count": 52,
      "id": "d286cf4c-707b-4cd2-9190-7ab3587d04a1",
      "metadata": {
        "id": "d286cf4c-707b-4cd2-9190-7ab3587d04a1"
      },
      "outputs": [],
      "source": [
        "# текст запроса\n",
        "query_3_4 = f'''\n",
        "SELECT\n",
        "  COUNT(1) AS \"Количество сфер деятельности\" /*подсчет всех строк и назначение алиаса*/\n",
        "FROM\n",
        "  public.industries /*из таблицы со сферами деятельности*/\n",
        "'''\n"
      ]
    },
    {
      "cell_type": "code",
      "execution_count": 53,
      "id": "JYAaoZ4qhfzW",
      "metadata": {
        "id": "JYAaoZ4qhfzW"
      },
      "outputs": [
        {
          "data": {
            "text/html": [
              "<div>\n",
              "<style scoped>\n",
              "    .dataframe tbody tr th:only-of-type {\n",
              "        vertical-align: middle;\n",
              "    }\n",
              "\n",
              "    .dataframe tbody tr th {\n",
              "        vertical-align: top;\n",
              "    }\n",
              "\n",
              "    .dataframe thead th {\n",
              "        text-align: right;\n",
              "    }\n",
              "</style>\n",
              "<table border=\"1\" class=\"dataframe\">\n",
              "  <thead>\n",
              "    <tr style=\"text-align: right;\">\n",
              "      <th></th>\n",
              "      <th>Количество сфер деятельности</th>\n",
              "    </tr>\n",
              "  </thead>\n",
              "  <tbody>\n",
              "    <tr>\n",
              "      <th>0</th>\n",
              "      <td>294</td>\n",
              "    </tr>\n",
              "  </tbody>\n",
              "</table>\n",
              "</div>"
            ],
            "text/plain": [
              "   Количество сфер деятельности\n",
              "0                           294"
            ]
          },
          "metadata": {},
          "output_type": "display_data"
        }
      ],
      "source": [
        "# результат запроса\n",
        "try:  # попытка выполнить запрос\n",
        "    # сохраняем в dataframe\n",
        "    df = pd.DataFrame(connection.execute(text(query_3_4)).fetchall())\n",
        "    display(df)  # выводим dataframe\n",
        "except exc.SQLAlchemyError:  # если не получилось выполнить запрос\n",
        "    display('Запрос к базе данных не выполнен!')  # выводим сообщение\n"
      ]
    },
    {
      "cell_type": "markdown",
      "id": "9a8a2181-6914-448b-85f1-38f5f18b8a93",
      "metadata": {
        "id": "9a8a2181-6914-448b-85f1-38f5f18b8a93"
      },
      "source": [
        "***"
      ]
    },
    {
      "cell_type": "code",
      "execution_count": 12,
      "id": "be4e9bd3-a4db-4a20-82fb-6b02fc2957e0",
      "metadata": {
        "id": "be4e9bd3-a4db-4a20-82fb-6b02fc2957e0"
      },
      "outputs": [],
      "source": [
        "# выводы по предварительному анализу данных\n",
        "# В базе данных сайта hh.ru находится 49197 вакансий от 23501 работодателя из 1362 регионов, представленных в 294 сферах деятельности\n"
      ]
    },
    {
      "cell_type": "markdown",
      "id": "8d62a9f3-f64e-4fe7-bdac-c4dffa16155e",
      "metadata": {
        "id": "8d62a9f3-f64e-4fe7-bdac-c4dffa16155e"
      },
      "source": [
        "# Юнит 4. Детальный анализ вакансий"
      ]
    },
    {
      "cell_type": "markdown",
      "id": "93053d3d-b284-481a-9cf7-012d7014c0e0",
      "metadata": {
        "id": "93053d3d-b284-481a-9cf7-012d7014c0e0"
      },
      "source": [
        "1. Напишите запрос, который позволит узнать, сколько (cnt) вакансий в каждом регионе (area).\n",
        "Отсортируйте по количеству вакансий в порядке убывания."
      ]
    },
    {
      "cell_type": "code",
      "execution_count": 9,
      "id": "3f069da6-fdc9-4ae7-b514-fafe2675efd3",
      "metadata": {
        "id": "3f069da6-fdc9-4ae7-b514-fafe2675efd3"
      },
      "outputs": [],
      "source": [
        "# текст запроса\n",
        "query_4_1 = f'''\n",
        "SELECT\n",
        "  COUNT(1) AS \"Количество вакансий\", /*подсчет всех строк и назначение алиаса*/\n",
        "  a.name AS \"Регион\" /*столбец с назаванием региона и назначение алиаса*/\n",
        "FROM\n",
        "  public.vacancies AS v /*из таблицы вакансий и назначение алиаса*/\n",
        "  JOIN public.areas AS a ON v.area_id=a.id /*присоединение таблицы регионов по условию столбец с id-региона из таблицы вакансий равен столбцу с id из таблицы регионов и назначение алиаса*/\n",
        "GROUP BY\n",
        "  a.name /*группировка по столбцу с назаванием региона*/\n",
        "ORDER BY\n",
        "  COUNT(1) DESC /*сортировка в порядке убывания*/\n",
        "LIMIT\n",
        "  5 /*ограничение вывода пятью значениями, согласно заданию 4.1*/\n",
        "'''\n"
      ]
    },
    {
      "cell_type": "code",
      "execution_count": 10,
      "id": "P7QL86hrjhRJ",
      "metadata": {
        "id": "P7QL86hrjhRJ"
      },
      "outputs": [
        {
          "data": {
            "text/html": [
              "<div>\n",
              "<style scoped>\n",
              "    .dataframe tbody tr th:only-of-type {\n",
              "        vertical-align: middle;\n",
              "    }\n",
              "\n",
              "    .dataframe tbody tr th {\n",
              "        vertical-align: top;\n",
              "    }\n",
              "\n",
              "    .dataframe thead th {\n",
              "        text-align: right;\n",
              "    }\n",
              "</style>\n",
              "<table border=\"1\" class=\"dataframe\">\n",
              "  <thead>\n",
              "    <tr style=\"text-align: right;\">\n",
              "      <th></th>\n",
              "      <th>Количество вакансий</th>\n",
              "      <th>Регион</th>\n",
              "    </tr>\n",
              "  </thead>\n",
              "  <tbody>\n",
              "    <tr>\n",
              "      <th>0</th>\n",
              "      <td>5333</td>\n",
              "      <td>Москва</td>\n",
              "    </tr>\n",
              "    <tr>\n",
              "      <th>1</th>\n",
              "      <td>2851</td>\n",
              "      <td>Санкт-Петербург</td>\n",
              "    </tr>\n",
              "    <tr>\n",
              "      <th>2</th>\n",
              "      <td>2112</td>\n",
              "      <td>Минск</td>\n",
              "    </tr>\n",
              "    <tr>\n",
              "      <th>3</th>\n",
              "      <td>2006</td>\n",
              "      <td>Новосибирск</td>\n",
              "    </tr>\n",
              "    <tr>\n",
              "      <th>4</th>\n",
              "      <td>1892</td>\n",
              "      <td>Алматы</td>\n",
              "    </tr>\n",
              "  </tbody>\n",
              "</table>\n",
              "</div>"
            ],
            "text/plain": [
              "   Количество вакансий           Регион\n",
              "0                 5333           Москва\n",
              "1                 2851  Санкт-Петербург\n",
              "2                 2112            Минск\n",
              "3                 2006      Новосибирск\n",
              "4                 1892           Алматы"
            ]
          },
          "metadata": {},
          "output_type": "display_data"
        }
      ],
      "source": [
        "# результат запроса\n",
        "try:  # попытка выполнить запрос\n",
        "    # сохраняем в dataframe\n",
        "    df = pd.DataFrame(connection.execute(text(query_4_1)).fetchall())\n",
        "    display(df)  # выводим dataframe\n",
        "except exc.SQLAlchemyError:  # если не получилось выполнить запрос\n",
        "    display('Запрос к базе данных не выполнен!')  # выводим сообщение\n"
      ]
    },
    {
      "cell_type": "markdown",
      "id": "4266f0b6-1646-492a-88b4-2f6a46502135",
      "metadata": {
        "id": "4266f0b6-1646-492a-88b4-2f6a46502135"
      },
      "source": [
        "2. Напишите запрос, чтобы определить у какого количества вакансий заполнено хотя бы одно из двух полей с зарплатой."
      ]
    },
    {
      "cell_type": "code",
      "execution_count": 3,
      "id": "0c44b350-72eb-4d65-8b54-a1fc449ba9fd",
      "metadata": {
        "id": "0c44b350-72eb-4d65-8b54-a1fc449ba9fd"
      },
      "outputs": [],
      "source": [
        "# текст запроса\n",
        "query_4_2 = f'''\n",
        "SELECT\n",
        "  COUNT(1) AS \"Количество вакансий\" /*подсчет всех строк и назначение алиаса*/\n",
        "FROM\n",
        "  public.vacancies AS v /*из таблицы вакансий и назначение алиаса*/\n",
        "WHERE\n",
        "  (v.salary_from IS NOT NULL) /*при условии, что столбец зарплата от незаполнен*/\n",
        "  OR (v.salary_to IS NOT NULL) /*или при условии, что столбец зарплата до незаполнен*/\n",
        "'''\n"
      ]
    },
    {
      "cell_type": "code",
      "execution_count": 4,
      "id": "rhvwaMDkoWTi",
      "metadata": {
        "id": "rhvwaMDkoWTi"
      },
      "outputs": [
        {
          "data": {
            "text/html": [
              "<div>\n",
              "<style scoped>\n",
              "    .dataframe tbody tr th:only-of-type {\n",
              "        vertical-align: middle;\n",
              "    }\n",
              "\n",
              "    .dataframe tbody tr th {\n",
              "        vertical-align: top;\n",
              "    }\n",
              "\n",
              "    .dataframe thead th {\n",
              "        text-align: right;\n",
              "    }\n",
              "</style>\n",
              "<table border=\"1\" class=\"dataframe\">\n",
              "  <thead>\n",
              "    <tr style=\"text-align: right;\">\n",
              "      <th></th>\n",
              "      <th>Количество вакансий</th>\n",
              "    </tr>\n",
              "  </thead>\n",
              "  <tbody>\n",
              "    <tr>\n",
              "      <th>0</th>\n",
              "      <td>24073</td>\n",
              "    </tr>\n",
              "  </tbody>\n",
              "</table>\n",
              "</div>"
            ],
            "text/plain": [
              "   Количество вакансий\n",
              "0                24073"
            ]
          },
          "metadata": {},
          "output_type": "display_data"
        }
      ],
      "source": [
        "# результат запроса\n",
        "try:  # попытка выполнить запрос\n",
        "    # сохраняем в dataframe\n",
        "    df = pd.DataFrame(connection.execute(text(query_4_2)).fetchall())\n",
        "    display(df)  # выводим dataframe\n",
        "except exc.SQLAlchemyError:  # если не получилось выполнить запрос\n",
        "    display('Запрос к базе данных не выполнен!')  # выводим сообщение\n"
      ]
    },
    {
      "cell_type": "markdown",
      "id": "635c4d5d-f323-4c66-b428-50a088120aa0",
      "metadata": {
        "id": "635c4d5d-f323-4c66-b428-50a088120aa0"
      },
      "source": [
        "3. Найдите средние значения для нижней и верхней границы зарплатной вилки. Округлите значения до целого."
      ]
    },
    {
      "cell_type": "code",
      "execution_count": 5,
      "id": "603cdbe4-0ec3-4106-8eaf-c73fcdd29165",
      "metadata": {
        "id": "603cdbe4-0ec3-4106-8eaf-c73fcdd29165"
      },
      "outputs": [],
      "source": [
        "# текст запроса\n",
        "query_4_3 = f'''\n",
        "SELECT\n",
        "  ROUND(AVG(v.salary_from)) AS \"Среднее значение нижней границы\", /*округленное до целого чмсла среднее значение столбца зарплата от и назначение алиаса*/\n",
        "  ROUND(AVG(v.salary_to)) AS \"Среднее значение верхней границы\" /*округленное до целого чмсла среднее значение столбца зарплата до и назначение алиаса*/\n",
        "FROM\n",
        "  public.vacancies AS v /*из таблицы вакансий и назначение алиаса*/\n",
        "'''\n"
      ]
    },
    {
      "cell_type": "code",
      "execution_count": 6,
      "id": "pswpAb66ovZZ",
      "metadata": {
        "id": "pswpAb66ovZZ"
      },
      "outputs": [
        {
          "data": {
            "text/html": [
              "<div>\n",
              "<style scoped>\n",
              "    .dataframe tbody tr th:only-of-type {\n",
              "        vertical-align: middle;\n",
              "    }\n",
              "\n",
              "    .dataframe tbody tr th {\n",
              "        vertical-align: top;\n",
              "    }\n",
              "\n",
              "    .dataframe thead th {\n",
              "        text-align: right;\n",
              "    }\n",
              "</style>\n",
              "<table border=\"1\" class=\"dataframe\">\n",
              "  <thead>\n",
              "    <tr style=\"text-align: right;\">\n",
              "      <th></th>\n",
              "      <th>Среднее значение нижней границы</th>\n",
              "      <th>Среднее значение верхней границы</th>\n",
              "    </tr>\n",
              "  </thead>\n",
              "  <tbody>\n",
              "    <tr>\n",
              "      <th>0</th>\n",
              "      <td>71065</td>\n",
              "      <td>110537</td>\n",
              "    </tr>\n",
              "  </tbody>\n",
              "</table>\n",
              "</div>"
            ],
            "text/plain": [
              "  Среднее значение нижней границы Среднее значение верхней границы\n",
              "0                           71065                           110537"
            ]
          },
          "metadata": {},
          "output_type": "display_data"
        }
      ],
      "source": [
        "# результат запроса\n",
        "try:  # попытка выполнить запрос\n",
        "    # сохраняем в dataframe\n",
        "    df = pd.DataFrame(connection.execute(text(query_4_3)).fetchall())\n",
        "    display(df)  # выводим dataframe\n",
        "except exc.SQLAlchemyError:  # если не получилось выполнить запрос\n",
        "    display('Запрос к базе данных не выполнен!')  # выводим сообщение\n"
      ]
    },
    {
      "cell_type": "markdown",
      "id": "f3fdaec9-5fd3-4260-9cf5-1d7406b628a5",
      "metadata": {
        "id": "f3fdaec9-5fd3-4260-9cf5-1d7406b628a5"
      },
      "source": [
        "4. Напишите запрос, который выведет количество вакансий для каждого сочетания типа рабочего графика (schedule) и типа трудоустройства (employment), используемого в вакансиях. Результат отсортируйте по убыванию количества.\n"
      ]
    },
    {
      "cell_type": "code",
      "execution_count": 31,
      "id": "1ea710ec-871b-431e-9462-c7d0fd87011b",
      "metadata": {
        "id": "1ea710ec-871b-431e-9462-c7d0fd87011b"
      },
      "outputs": [],
      "source": [
        "# текст запроса\n",
        "query_4_4= f'''\n",
        "SELECT\n",
        "  COUNT(1) AS \"Количество вакансий\", /*подсчет всех строк и назначение алиаса*/\n",
        "  v.schedule AS \"Тип рабочего графика\", /*столбец с типом рабочего графика и назначение алиаса*/\n",
        "  v.employment AS \"Тип трудоустройства\" /*столбец с типом трудоустройства и назначение алиаса*/\n",
        "FROM\n",
        "  public.vacancies AS v /*из таблицы вакансий и назначение алиаса*/\n",
        "GROUP BY\n",
        "  v.schedule, /*группировка по столбцу с типом рабочего графика*/\n",
        "  v.employment /*группировка по столбцу с типом трудоустройства*/\n",
        "ORDER BY\n",
        "  COUNT(1) DESC /*сортировка в порядке убывания*/\n",
        "OFFSET\n",
        "  1 /*ислючить из вывода первую строку*/\n",
        "LIMIT\n",
        "  1 /*вывести одно значение после первой строки, согласно заданию 4.4*/\n",
        "'''\n"
      ]
    },
    {
      "cell_type": "code",
      "execution_count": 32,
      "id": "lGUVqavdo4JQ",
      "metadata": {
        "id": "lGUVqavdo4JQ"
      },
      "outputs": [
        {
          "data": {
            "text/html": [
              "<div>\n",
              "<style scoped>\n",
              "    .dataframe tbody tr th:only-of-type {\n",
              "        vertical-align: middle;\n",
              "    }\n",
              "\n",
              "    .dataframe tbody tr th {\n",
              "        vertical-align: top;\n",
              "    }\n",
              "\n",
              "    .dataframe thead th {\n",
              "        text-align: right;\n",
              "    }\n",
              "</style>\n",
              "<table border=\"1\" class=\"dataframe\">\n",
              "  <thead>\n",
              "    <tr style=\"text-align: right;\">\n",
              "      <th></th>\n",
              "      <th>Количество вакансий</th>\n",
              "      <th>Тип рабочего графика</th>\n",
              "      <th>Тип трудоустройства</th>\n",
              "    </tr>\n",
              "  </thead>\n",
              "  <tbody>\n",
              "    <tr>\n",
              "      <th>0</th>\n",
              "      <td>7802</td>\n",
              "      <td>Удаленная работа</td>\n",
              "      <td>Полная занятость</td>\n",
              "    </tr>\n",
              "  </tbody>\n",
              "</table>\n",
              "</div>"
            ],
            "text/plain": [
              "   Количество вакансий Тип рабочего графика Тип трудоустройства\n",
              "0                 7802     Удаленная работа    Полная занятость"
            ]
          },
          "metadata": {},
          "output_type": "display_data"
        }
      ],
      "source": [
        "# результат запроса\n",
        "try:  # попытка выполнить запрос\n",
        "    # сохраняем в dataframe\n",
        "    df = pd.DataFrame(connection.execute(text(query_4_4)).fetchall())\n",
        "    display(df)  # выводим dataframe\n",
        "except exc.SQLAlchemyError:  # если не получилось выполнить запрос\n",
        "    display('Запрос к базе данных не выполнен!')  # выводим сообщение\n"
      ]
    },
    {
      "cell_type": "markdown",
      "id": "0136ffee-0ead-4a6b-b608-61d1c753a438",
      "metadata": {
        "id": "0136ffee-0ead-4a6b-b608-61d1c753a438"
      },
      "source": [
        "5. Напишите запрос, выводящий значения поля Требуемый опыт работы (experience) в порядке возрастания количества вакансий, в которых указан данный вариант опыта. "
      ]
    },
    {
      "cell_type": "code",
      "execution_count": 56,
      "id": "5b3a8e79-f7ab-4008-b767-12aea3a205ea",
      "metadata": {
        "id": "5b3a8e79-f7ab-4008-b767-12aea3a205ea"
      },
      "outputs": [],
      "source": [
        "# текст запроса\n",
        "query_4_5 = f'''\n",
        "SELECT\n",
        "  v.experience AS \"Требуемый опыт работы\" /*столбец с требуемым опытом работы и назначение алиаса*/\n",
        "FROM\n",
        "  public.vacancies AS v /*из таблицы вакансий и назначение алиаса*/\n",
        "GROUP BY\n",
        "  v.experience /*группировка по столбцу с требуемым опытом работы*/\n",
        "ORDER BY\n",
        "  COUNT(1) /*сортировка в порядке возрастания*/\n",
        "'''\n"
      ]
    },
    {
      "cell_type": "code",
      "execution_count": 57,
      "id": "3Is64Y-hpDpq",
      "metadata": {
        "id": "3Is64Y-hpDpq"
      },
      "outputs": [
        {
          "data": {
            "text/html": [
              "<div>\n",
              "<style scoped>\n",
              "    .dataframe tbody tr th:only-of-type {\n",
              "        vertical-align: middle;\n",
              "    }\n",
              "\n",
              "    .dataframe tbody tr th {\n",
              "        vertical-align: top;\n",
              "    }\n",
              "\n",
              "    .dataframe thead th {\n",
              "        text-align: right;\n",
              "    }\n",
              "</style>\n",
              "<table border=\"1\" class=\"dataframe\">\n",
              "  <thead>\n",
              "    <tr style=\"text-align: right;\">\n",
              "      <th></th>\n",
              "      <th>Требуемый опыт работы</th>\n",
              "    </tr>\n",
              "  </thead>\n",
              "  <tbody>\n",
              "    <tr>\n",
              "      <th>0</th>\n",
              "      <td>Более 6 лет</td>\n",
              "    </tr>\n",
              "    <tr>\n",
              "      <th>1</th>\n",
              "      <td>Нет опыта</td>\n",
              "    </tr>\n",
              "    <tr>\n",
              "      <th>2</th>\n",
              "      <td>От 3 до 6 лет</td>\n",
              "    </tr>\n",
              "    <tr>\n",
              "      <th>3</th>\n",
              "      <td>От 1 года до 3 лет</td>\n",
              "    </tr>\n",
              "  </tbody>\n",
              "</table>\n",
              "</div>"
            ],
            "text/plain": [
              "  Требуемый опыт работы\n",
              "0           Более 6 лет\n",
              "1             Нет опыта\n",
              "2         От 3 до 6 лет\n",
              "3    От 1 года до 3 лет"
            ]
          },
          "metadata": {},
          "output_type": "display_data"
        }
      ],
      "source": [
        "# результат запроса\n",
        "try:  # попытка выполнить запрос\n",
        "    # сохраняем в dataframe\n",
        "    df = pd.DataFrame(connection.execute(text(query_4_5)).fetchall())\n",
        "    display(df)  # выводим dataframe\n",
        "except exc.SQLAlchemyError:  # если не получилось выполнить запрос\n",
        "    display('Запрос к базе данных не выполнен!')  # выводим сообщение\n"
      ]
    },
    {
      "cell_type": "markdown",
      "id": "oq2b7n1QpIka",
      "metadata": {
        "id": "oq2b7n1QpIka"
      },
      "source": [
        "***"
      ]
    },
    {
      "cell_type": "code",
      "execution_count": 23,
      "id": "e91f87ed-e25c-4f96-9f92-b642e8c0b4fa",
      "metadata": {
        "id": "e91f87ed-e25c-4f96-9f92-b642e8c0b4fa"
      },
      "outputs": [],
      "source": [
        "# выводы по детальному анализу вакансий\n",
        "# Пятерка регионов по количеству вакансий: Москва, Санкт-Петербург, Минск, Новосибирск, Алматы\n",
        "# Одно из двух полей с зарплатой заполнено у 24073 вакансий\n",
        "# Среднее значение для нижней границы зарплатной вилки - 71065, а для верхней - 110537\n",
        "# На втором месте по популярности среди всех вакансий по сочетанию типа рабочего графика и типа трудоустройства является Удалённая работа — Полная занятость\n",
        "# Требуемый опыт работы в порядке возрастания количества вакансий составлет: Более 6 лет — Нет опыта — От 3 до 6 лет — От 1 года до 3 лет"
      ]
    },
    {
      "cell_type": "markdown",
      "id": "7ea20ab6-04a7-40a0-adec-443a0e5a42c3",
      "metadata": {
        "id": "7ea20ab6-04a7-40a0-adec-443a0e5a42c3"
      },
      "source": [
        "# Юнит 5. Анализ работодателей"
      ]
    },
    {
      "cell_type": "markdown",
      "id": "968aed80-74ef-4ffb-b5bf-c65b84e9caea",
      "metadata": {
        "id": "968aed80-74ef-4ffb-b5bf-c65b84e9caea"
      },
      "source": [
        "1. Напишите запрос, который позволит узнать, какие работодатели находятся на первом и пятом месте по количеству вакансий."
      ]
    },
    {
      "cell_type": "code",
      "execution_count": 77,
      "id": "f2d62796-d400-4ec1-a675-88112739a50e",
      "metadata": {
        "id": "f2d62796-d400-4ec1-a675-88112739a50e"
      },
      "outputs": [],
      "source": [
        "# текст запроса\n",
        "query_5_1 = f'''\n",
        "(SELECT\n",
        "  e.name \"Работодатель\" /*столбец с назаванием работодателя и назначение алиаса*/\n",
        "FROM\n",
        "  public.employers AS e /*из таблицы работодателей и назначение алиаса*/\n",
        "  /*присоединение таблицы вакансий по условию столбец с id из таблицы работодателей равен столбцу с id-работодателя из таблицы вакансий и назначение алиаса*/\n",
        "  JOIN public.vacancies AS v ON e.id=v.employer_id\n",
        "GROUP BY\n",
        "  e.name /*группировка по столбцу с назаванием работодателя*/\n",
        "ORDER BY\n",
        "  COUNT(1) DESC /*сортировка в порядке убывания*/\n",
        "LIMIT\n",
        "  1) /*ограничение вывода одним значением, согласно заданию 5.1*/\n",
        "UNION /*соединение*/\n",
        "(SELECT\n",
        "  e.name \"Работодатель\" /*столбец с назаванием работодателя и назначение алиаса*/\n",
        "FROM\n",
        "  public.employers AS e /*из таблицы работодателей и назначение алиаса*/\n",
        "  /*присоединение таблицы вакансий по условию столбец с id из таблицы работодателей равен столбцу с id-работодателя из таблицы вакансий и назначение алиаса*/\n",
        "  JOIN public.vacancies AS v ON e.id=v.employer_id\n",
        "GROUP BY\n",
        "  e.name /*группировка по столбцу с назаванием работодателя*/\n",
        "ORDER BY\n",
        "  COUNT(1) DESC /*сортировка в порядке убывания*/\n",
        "OFFSET\n",
        "  4 /*ислючить из вывода четыре строки*/\n",
        "LIMIT\n",
        "  1) /*вывести одно значение после четвертой строки, согласно заданию 5.1*/\n",
        "'''\n"
      ]
    },
    {
      "cell_type": "code",
      "execution_count": 78,
      "id": "64tOMkAxqkQk",
      "metadata": {
        "id": "64tOMkAxqkQk"
      },
      "outputs": [
        {
          "data": {
            "text/html": [
              "<div>\n",
              "<style scoped>\n",
              "    .dataframe tbody tr th:only-of-type {\n",
              "        vertical-align: middle;\n",
              "    }\n",
              "\n",
              "    .dataframe tbody tr th {\n",
              "        vertical-align: top;\n",
              "    }\n",
              "\n",
              "    .dataframe thead th {\n",
              "        text-align: right;\n",
              "    }\n",
              "</style>\n",
              "<table border=\"1\" class=\"dataframe\">\n",
              "  <thead>\n",
              "    <tr style=\"text-align: right;\">\n",
              "      <th></th>\n",
              "      <th>Работодатель</th>\n",
              "    </tr>\n",
              "  </thead>\n",
              "  <tbody>\n",
              "    <tr>\n",
              "      <th>0</th>\n",
              "      <td>Газпром нефть</td>\n",
              "    </tr>\n",
              "    <tr>\n",
              "      <th>1</th>\n",
              "      <td>Яндекс</td>\n",
              "    </tr>\n",
              "  </tbody>\n",
              "</table>\n",
              "</div>"
            ],
            "text/plain": [
              "    Работодатель\n",
              "0  Газпром нефть\n",
              "1         Яндекс"
            ]
          },
          "metadata": {},
          "output_type": "display_data"
        }
      ],
      "source": [
        "# результат запроса\n",
        "try:  # попытка выполнить запрос\n",
        "    # сохраняем в dataframe\n",
        "    df = pd.DataFrame(connection.execute(text(query_5_1)).fetchall())\n",
        "    display(df)  # выводим dataframe\n",
        "except exc.SQLAlchemyError:  # если не получилось выполнить запрос\n",
        "    display('Запрос к базе данных не выполнен!')  # выводим сообщение\n"
      ]
    },
    {
      "cell_type": "markdown",
      "id": "68377cfc-b378-43dc-ab7d-1195abf2c515",
      "metadata": {
        "id": "68377cfc-b378-43dc-ab7d-1195abf2c515"
      },
      "source": [
        "2. Напишите запрос, который для каждого региона выведет количество работодателей и вакансий в нём.\n",
        "Среди регионов, в которых нет вакансий, найдите тот, в котором наибольшее количество работодателей.\n"
      ]
    },
    {
      "cell_type": "code",
      "execution_count": 13,
      "id": "dd7df27a-e3e8-412e-a21a-5d389b71e891",
      "metadata": {
        "id": "dd7df27a-e3e8-412e-a21a-5d389b71e891"
      },
      "outputs": [],
      "source": [
        "# текст запроса\n",
        "query_5_2 = f'''\n",
        "SELECT\n",
        "  a.name AS \"Регион\", /*столбец с назаванием региона и назначение алиаса*/\n",
        "  COUNT(DISTINCT e.id) AS \"Количество работодателей\", /*подсчет строк с исключением повторяющихся и назначение алиаса*/\n",
        "  COUNT(DISTINCT v.id) AS \"Количество вакансий\" /*подсчет строк с исключением повторяющихся и назначение алиаса*/\n",
        "FROM\n",
        "  public.areas AS a /*из таблицы регионов и назначение алиаса*/\n",
        "  /*присоединение таблицы работодателей слева по условию столбец с id из таблицы регионов равен столбцу региона из таблицы работодателей и назначение алиаса*/\n",
        "  LEFT JOIN public.employers AS e ON a.id=e.area\n",
        "  /*присоединение таблицы вакансий слева по условию столбец с id из таблицы регионов равен столбцу с id-региона из таблицы вакансий и назначение алиаса*/\n",
        "  LEFT JOIN public.vacancies AS v ON a.id=v.area_id\n",
        "WHERE\n",
        "  v.id IS NULL /*условие, где столбец с id вакансий имеет значение null*/\n",
        "GROUP BY\n",
        "  a.name /*группировка по столбцу с назаванием региона*/\n",
        "ORDER BY\n",
        "  COUNT(e.id) DESC /*сортировка в порядке убывания*/\n",
        "LIMIT\n",
        "  1 /*ограничение вывода одним значением*/\n",
        "'''\n"
      ]
    },
    {
      "cell_type": "code",
      "execution_count": 18,
      "id": "x1ikWbydrbf6",
      "metadata": {
        "id": "x1ikWbydrbf6"
      },
      "outputs": [
        {
          "data": {
            "text/html": [
              "<div>\n",
              "<style scoped>\n",
              "    .dataframe tbody tr th:only-of-type {\n",
              "        vertical-align: middle;\n",
              "    }\n",
              "\n",
              "    .dataframe tbody tr th {\n",
              "        vertical-align: top;\n",
              "    }\n",
              "\n",
              "    .dataframe thead th {\n",
              "        text-align: right;\n",
              "    }\n",
              "</style>\n",
              "<table border=\"1\" class=\"dataframe\">\n",
              "  <thead>\n",
              "    <tr style=\"text-align: right;\">\n",
              "      <th></th>\n",
              "      <th>Регион</th>\n",
              "      <th>Количество работодателей</th>\n",
              "      <th>Количество вакансий</th>\n",
              "    </tr>\n",
              "  </thead>\n",
              "  <tbody>\n",
              "    <tr>\n",
              "      <th>0</th>\n",
              "      <td>Россия</td>\n",
              "      <td>410</td>\n",
              "      <td>0</td>\n",
              "    </tr>\n",
              "  </tbody>\n",
              "</table>\n",
              "</div>"
            ],
            "text/plain": [
              "   Регион  Количество работодателей  Количество вакансий\n",
              "0  Россия                       410                    0"
            ]
          },
          "metadata": {},
          "output_type": "display_data"
        }
      ],
      "source": [
        "# результат запроса\n",
        "try:  # попытка выполнить запрос\n",
        "    # сохраняем в dataframe\n",
        "    df = pd.DataFrame(connection.execute(text(query_5_2)).fetchall())\n",
        "    display(df)  # выводим dataframe\n",
        "except exc.SQLAlchemyError:  # если не получилось выполнить запрос\n",
        "    display('Запрос к базе данных не выполнен!')  # выводим сообщение\n"
      ]
    },
    {
      "cell_type": "markdown",
      "id": "f2fe0acb-ab1a-4e15-9326-2560e22d73c1",
      "metadata": {
        "id": "f2fe0acb-ab1a-4e15-9326-2560e22d73c1"
      },
      "source": [
        "3. Для каждого работодателя посчитайте количество регионов, в которых он публикует свои вакансии. Отсортируйте результат по убыванию количества.\n"
      ]
    },
    {
      "cell_type": "code",
      "execution_count": 5,
      "id": "6271f8ad-bd2e-4196-ae4a-5b39c4c1010e",
      "metadata": {
        "id": "6271f8ad-bd2e-4196-ae4a-5b39c4c1010e"
      },
      "outputs": [],
      "source": [
        "# текст запроса\n",
        "query_5_3 = f'''\n",
        "SELECT\n",
        "  e.name AS \"Работодатель\", /*столбец с назаванием работодателя и назначение алиаса*/\n",
        "  COUNT(DISTINCT v.area_id) AS \"Количество регионов\" /*подсчет строк с исключением повторяющихся и назначение алиаса*/\n",
        "FROM\n",
        "  public.employers AS e /*из таблицы работодателей и назначение алиаса*/\n",
        "  /*присоединение таблицы вакансий слева по условию столбец с id из таблицы работодателей равен столбцу с id-работодателя из таблицы вакансий и назначение алиаса*/\n",
        "  LEFT JOIN public.vacancies AS v ON e.id=v.employer_id\n",
        "GROUP BY\n",
        "  e.name /*группировка по столбцу с назаванием работодателя*/\n",
        "ORDER BY\n",
        "  COUNT(DISTINCT v.area_id) DESC /*сортировка в порядке убывания*/\n",
        "LIMIT\n",
        "  1 /*ограничение вывода одним значением*/\n",
        "'''\n"
      ]
    },
    {
      "cell_type": "code",
      "execution_count": 17,
      "id": "1EIvX3HasH4F",
      "metadata": {
        "id": "1EIvX3HasH4F"
      },
      "outputs": [
        {
          "data": {
            "text/html": [
              "<div>\n",
              "<style scoped>\n",
              "    .dataframe tbody tr th:only-of-type {\n",
              "        vertical-align: middle;\n",
              "    }\n",
              "\n",
              "    .dataframe tbody tr th {\n",
              "        vertical-align: top;\n",
              "    }\n",
              "\n",
              "    .dataframe thead th {\n",
              "        text-align: right;\n",
              "    }\n",
              "</style>\n",
              "<table border=\"1\" class=\"dataframe\">\n",
              "  <thead>\n",
              "    <tr style=\"text-align: right;\">\n",
              "      <th></th>\n",
              "      <th>Работодатель</th>\n",
              "      <th>Количество регионов</th>\n",
              "    </tr>\n",
              "  </thead>\n",
              "  <tbody>\n",
              "    <tr>\n",
              "      <th>0</th>\n",
              "      <td>Яндекс</td>\n",
              "      <td>181</td>\n",
              "    </tr>\n",
              "  </tbody>\n",
              "</table>\n",
              "</div>"
            ],
            "text/plain": [
              "  Работодатель  Количество регионов\n",
              "0       Яндекс                  181"
            ]
          },
          "metadata": {},
          "output_type": "display_data"
        }
      ],
      "source": [
        "# результат запроса\n",
        "try:  # попытка выполнить запрос\n",
        "    # сохраняем в dataframe\n",
        "    df = pd.DataFrame(connection.execute(text(query_5_3)).fetchall())\n",
        "    display(df)  # выводим dataframe\n",
        "except exc.SQLAlchemyError:  # если не получилось выполнить запрос\n",
        "    display('Запрос к базе данных не выполнен!')  # выводим сообщение\n"
      ]
    },
    {
      "cell_type": "markdown",
      "id": "eab2206d-d95b-468b-8e5f-34381abf0ce7",
      "metadata": {
        "id": "eab2206d-d95b-468b-8e5f-34381abf0ce7"
      },
      "source": [
        "4. Напишите запрос для подсчёта количества работодателей, у которых не указана сфера деятельности. "
      ]
    },
    {
      "cell_type": "code",
      "execution_count": 7,
      "id": "80defb23-bfb1-4a18-8be6-bf36aa7165d5",
      "metadata": {
        "id": "80defb23-bfb1-4a18-8be6-bf36aa7165d5"
      },
      "outputs": [],
      "source": [
        "# текст запроса\n",
        "query_5_4 = f'''\n",
        "SELECT\n",
        "  COUNT(1) AS \"Количество работодателей\" /*подсчет всех строк и назначение алиаса*/\n",
        "FROM\n",
        "  public.employers AS e /*из таблицы работодателей и назначение алиаса*/\n",
        "  /*присоединение таблицы employers_industries слева по условию столбец с id из таблицы работодателей равен столбцу с id-работодателя из таблицы employers_industries и назначение алиаса*/\n",
        "  LEFT JOIN public.employers_industries AS e_i ON e.id=e_i.employer_id\n",
        "  /*присоединение таблицы сферы деятельности слева по условию столбец с id-сферы деятельности из таблицы employers_industries равен \n",
        "  столбцу с id из таблицы сферы деятельности и назначение алиаса*/\n",
        "  LEFT JOIN public.industries AS i ON e_i.industry_id=i.id\n",
        "WHERE\n",
        "  i.id IS NULL /*условие, где столбец с id сферы деятельности имеет значение null*/\n",
        "'''\n"
      ]
    },
    {
      "cell_type": "code",
      "execution_count": 8,
      "id": "Dp_yCx6ysQSu",
      "metadata": {
        "id": "Dp_yCx6ysQSu"
      },
      "outputs": [
        {
          "data": {
            "text/html": [
              "<div>\n",
              "<style scoped>\n",
              "    .dataframe tbody tr th:only-of-type {\n",
              "        vertical-align: middle;\n",
              "    }\n",
              "\n",
              "    .dataframe tbody tr th {\n",
              "        vertical-align: top;\n",
              "    }\n",
              "\n",
              "    .dataframe thead th {\n",
              "        text-align: right;\n",
              "    }\n",
              "</style>\n",
              "<table border=\"1\" class=\"dataframe\">\n",
              "  <thead>\n",
              "    <tr style=\"text-align: right;\">\n",
              "      <th></th>\n",
              "      <th>Количество работодателей</th>\n",
              "    </tr>\n",
              "  </thead>\n",
              "  <tbody>\n",
              "    <tr>\n",
              "      <th>0</th>\n",
              "      <td>8419</td>\n",
              "    </tr>\n",
              "  </tbody>\n",
              "</table>\n",
              "</div>"
            ],
            "text/plain": [
              "   Количество работодателей\n",
              "0                      8419"
            ]
          },
          "metadata": {},
          "output_type": "display_data"
        }
      ],
      "source": [
        "# результат запроса\n",
        "try:  # попытка выполнить запрос\n",
        "    # сохраняем в dataframe\n",
        "    df = pd.DataFrame(connection.execute(text(query_5_4)).fetchall())\n",
        "    display(df)  # выводим dataframe\n",
        "except exc.SQLAlchemyError:  # если не получилось выполнить запрос\n",
        "    display('Запрос к базе данных не выполнен!')  # выводим сообщение\n"
      ]
    },
    {
      "cell_type": "markdown",
      "id": "0112af31-f6b0-4e3b-82ab-71296e752e5e",
      "metadata": {
        "id": "0112af31-f6b0-4e3b-82ab-71296e752e5e"
      },
      "source": [
        "5. Напишите запрос, чтобы узнать название компании, находящейся на третьем месте в алфавитном списке (по названию) компаний, у которых указано четыре сферы деятельности. "
      ]
    },
    {
      "cell_type": "code",
      "execution_count": 9,
      "id": "973b0cfc-a972-470a-8b4a-68744ef220c4",
      "metadata": {
        "id": "973b0cfc-a972-470a-8b4a-68744ef220c4"
      },
      "outputs": [],
      "source": [
        "# текст запроса\n",
        "query_5_5 = f'''\n",
        "SELECT\n",
        "  e.name AS \"Название компании\" /*столбец с назаванием работодателя и назначение алиаса*/\n",
        "FROM\n",
        "  public.employers AS e /*из таблицы работодателей и назначение алиаса*/\n",
        "  /*присоединение таблицы employers_industries по условию столбец с id из таблицы работодателей равен столбцу с id-работодателя из таблицы employers_industries и назначение алиаса*/\n",
        "  JOIN public.employers_industries AS e_i ON e.id=e_i.employer_id\n",
        "  /*присоединение таблицы сферы деятельности по условию столбец с id-сферы деятельности из таблицы employers_industries равен \n",
        "  столбцу с id из таблицы сферы деятельности и назначение алиаса*/\n",
        "  JOIN public.industries AS i ON e_i.industry_id=i.id\n",
        "GROUP BY\n",
        "  e.name /*группировка по столбцу с назаванием работодателя*/\n",
        "HAVING\n",
        "  COUNT(i.id)=4 /*фильтруем сгруппированные данные, где количество сфер деятельности равно четырем*/\n",
        "ORDER BY\n",
        "  e.name /*сортировка в алфавитном порядке*/\n",
        "OFFSET\n",
        "  2 /*ислючить из вывода две строки*/\n",
        "LIMIT\n",
        "  1 /*вывести одно значение после второй строки, согласно заданию 5.5*/\n",
        "'''\n"
      ]
    },
    {
      "cell_type": "code",
      "execution_count": 10,
      "id": "xsPtpp8EsaED",
      "metadata": {
        "id": "xsPtpp8EsaED"
      },
      "outputs": [
        {
          "data": {
            "text/html": [
              "<div>\n",
              "<style scoped>\n",
              "    .dataframe tbody tr th:only-of-type {\n",
              "        vertical-align: middle;\n",
              "    }\n",
              "\n",
              "    .dataframe tbody tr th {\n",
              "        vertical-align: top;\n",
              "    }\n",
              "\n",
              "    .dataframe thead th {\n",
              "        text-align: right;\n",
              "    }\n",
              "</style>\n",
              "<table border=\"1\" class=\"dataframe\">\n",
              "  <thead>\n",
              "    <tr style=\"text-align: right;\">\n",
              "      <th></th>\n",
              "      <th>Название компании</th>\n",
              "    </tr>\n",
              "  </thead>\n",
              "  <tbody>\n",
              "    <tr>\n",
              "      <th>0</th>\n",
              "      <td>2ГИС</td>\n",
              "    </tr>\n",
              "  </tbody>\n",
              "</table>\n",
              "</div>"
            ],
            "text/plain": [
              "  Название компании\n",
              "0              2ГИС"
            ]
          },
          "metadata": {},
          "output_type": "display_data"
        }
      ],
      "source": [
        "# результат запроса\n",
        "try:  # попытка выполнить запрос\n",
        "    # сохраняем в dataframe\n",
        "    df = pd.DataFrame(connection.execute(text(query_5_5)).fetchall())\n",
        "    display(df)  # выводим dataframe\n",
        "except exc.SQLAlchemyError:  # если не получилось выполнить запрос\n",
        "    display('Запрос к базе данных не выполнен!')  # выводим сообщение\n"
      ]
    },
    {
      "cell_type": "markdown",
      "id": "3bfcfdaf-755d-4d2b-8ed8-326201dc07ab",
      "metadata": {
        "id": "3bfcfdaf-755d-4d2b-8ed8-326201dc07ab"
      },
      "source": [
        "6. С помощью запроса выясните, у какого количества работодателей в качестве сферы деятельности указана Разработка программного обеспечения.\n"
      ]
    },
    {
      "cell_type": "code",
      "execution_count": 40,
      "id": "ad3f270f-2991-47eb-929b-e8f88a55b0d1",
      "metadata": {
        "id": "ad3f270f-2991-47eb-929b-e8f88a55b0d1"
      },
      "outputs": [],
      "source": [
        "# текст запроса\n",
        "query_5_6 = f'''\n",
        "SELECT\n",
        "  COUNT(1) AS \"Количество работодателей\" /*подсчет всех строк и назначение алиаса*/\n",
        "FROM\n",
        "  public.employers AS e /*из таблицы работодателей и назначение алиаса*/\n",
        "  /*присоединение таблицы employers_industries по условию столбец с id из таблицы работодателей равен столбцу с id-работодателя из таблицы employers_industries и назначение алиаса*/\n",
        "  JOIN public.employers_industries AS e_i ON e.id=e_i.employer_id\n",
        "  /*присоединение таблицы сферы деятельности по условию столбец с id-сферы деятельности из таблицы employers_industries равен \n",
        "  столбцу с id из таблицы сферы деятельности и назначение алиаса*/\n",
        "  JOIN public.industries AS i ON e_i.industry_id=i.id\n",
        "WHERE\n",
        "  i.name='Разработка программного обеспечения' /*условие, где столбец с названием сферы деятельности равен Разработка программного обеспечения*/\n",
        "'''\n"
      ]
    },
    {
      "cell_type": "code",
      "execution_count": 41,
      "id": "H72qxWM0shPR",
      "metadata": {
        "id": "H72qxWM0shPR"
      },
      "outputs": [
        {
          "data": {
            "text/html": [
              "<div>\n",
              "<style scoped>\n",
              "    .dataframe tbody tr th:only-of-type {\n",
              "        vertical-align: middle;\n",
              "    }\n",
              "\n",
              "    .dataframe tbody tr th {\n",
              "        vertical-align: top;\n",
              "    }\n",
              "\n",
              "    .dataframe thead th {\n",
              "        text-align: right;\n",
              "    }\n",
              "</style>\n",
              "<table border=\"1\" class=\"dataframe\">\n",
              "  <thead>\n",
              "    <tr style=\"text-align: right;\">\n",
              "      <th></th>\n",
              "      <th>Количество работодателей</th>\n",
              "    </tr>\n",
              "  </thead>\n",
              "  <tbody>\n",
              "    <tr>\n",
              "      <th>0</th>\n",
              "      <td>3553</td>\n",
              "    </tr>\n",
              "  </tbody>\n",
              "</table>\n",
              "</div>"
            ],
            "text/plain": [
              "   Количество работодателей\n",
              "0                      3553"
            ]
          },
          "metadata": {},
          "output_type": "display_data"
        }
      ],
      "source": [
        "# результат запроса\n",
        "try:  # попытка выполнить запрос\n",
        "    # сохраняем в dataframe\n",
        "    df = pd.DataFrame(connection.execute(text(query_5_6)).fetchall())\n",
        "    display(df)  # выводим dataframe\n",
        "except exc.SQLAlchemyError:  # если не получилось выполнить запрос\n",
        "    display('Запрос к базе данных не выполнен!')  # выводим сообщение\n"
      ]
    },
    {
      "cell_type": "markdown",
      "id": "7b02bb86-0546-40fb-94a4-242f050a5c57",
      "metadata": {
        "id": "7b02bb86-0546-40fb-94a4-242f050a5c57"
      },
      "source": [
        "7. Для компании «Яндекс» выведите список регионов-миллионников, в которых представлены вакансии компании, вместе с количеством вакансий в этих регионах. Также добавьте строку Total с общим количеством вакансий компании. Результат отсортируйте по возрастанию количества.\n",
        "\n",
        "Список городов-милионников надо взять [отсюда](https://ru.wikipedia.org/wiki/%D0%93%D0%BE%D1%80%D0%BE%D0%B4%D0%B0-%D0%BC%D0%B8%D0%BB%D0%BB%D0%B8%D0%BE%D0%BD%D0%B5%D1%80%D1%8B_%D0%A0%D0%BE%D1%81%D1%81%D0%B8%D0%B8). \n",
        "\n",
        "Если возникнут трудности с этим задание посмотрите материалы модуля  PYTHON-17. Как получать данные из веб-источников и API. "
      ]
    },
    {
      "cell_type": "code",
      "execution_count": 42,
      "id": "ZdfrL6gIs1Pn",
      "metadata": {
        "id": "ZdfrL6gIs1Pn"
      },
      "outputs": [],
      "source": [
        "# код для получения списка городов-милионников\n",
        "path_common = req.urlparse(\n",
        "    'https://ru.wikipedia.org/wiki/Города-миллионеры_России#Список_городов-миллионеров')\n",
        "url = path_common.scheme + '://' + req.quote(path_common.netloc) + req.quote(\n",
        "    path_common.path) + '#' + req.quote(path_common.fragment)\n",
        "# сохраняем список городов-миллионеров в переменную\n",
        "cities = list(pd.read_html(url)[1]['Город'])\n",
        "cities[13] = 'Воронеж'  # проводим корректировку названия города\n",
        "cities = tuple(cities)  # сохраняем список в кортеж\n"
      ]
    },
    {
      "cell_type": "code",
      "execution_count": 43,
      "id": "5a0e32a4-e68a-4365-8a39-2fe24c542c36",
      "metadata": {
        "id": "5a0e32a4-e68a-4365-8a39-2fe24c542c36"
      },
      "outputs": [],
      "source": [
        "# текст запроса\n",
        "query_5_7 = f'''\n",
        "SELECT\n",
        "  a.name AS \"Регионы-миллионники\", /*столбец с названием региона и назначение алиаса*/\n",
        "  COUNT(1) AS \"Количество вакансий\" /*подсчет всех строк и назначение алиаса*/\n",
        "FROM\n",
        "  public.vacancies AS v /*из таблицы вакансий и назначение алиаса*/\n",
        "  /*присоединение таблицы areas (регионов) по условию столбец с id из таблицы регионов равен столбцу с id-региона из таблицы вакансий и назначение алиаса*/\n",
        "  JOIN public.areas AS a ON a.id=v.area_id\n",
        "  /*присоединение таблицы employers (работодателей) по условию столбец с id из таблицы работодателей равен столбцу с id-работодателя из таблицы вакансий и назначение алиаса*/\n",
        "  JOIN public.employers AS e ON e.id=v.employer_id\n",
        "WHERE\n",
        "  e.name='Яндекс' /*условие, где название компании равно \"Яндекс\"*/\n",
        "  AND a.name IN {cities} /*условие, где название региона входит в список городов-миллиоников*/\n",
        "GROUP BY\n",
        "  a.name /*группировка по столбцу с названием региона*/\n",
        "UNION ALL /*объединение без повторений*/\n",
        "SELECT\n",
        "  'Total', /*нащначение алиаса*/ \n",
        "  COUNT(1) /*подсчет всех строк*/\n",
        "FROM\n",
        "  public.vacancies AS v /*из таблицы вакансий и назначение алиаса*/\n",
        "  /*присоединение таблицы areas (регионов) по условию столбец с id из таблицы регионов равен столбцу с id-региона из таблицы вакансий и назначение алиаса*/\n",
        "  JOIN public.areas AS a ON a.id=v.area_id\n",
        "  /*присоединение таблицы employers (работодателей) по условию столбец с id из таблицы работодателей равен столбцу с id-работодателя из таблицы вакансий и назначение алиаса*/\n",
        "  JOIN public.employers AS e ON e.id=v.employer_id\n",
        "WHERE\n",
        "  e.name='Яндекс' /*условие, где название компании равно \"Яндекс\"*/\n",
        "  AND a.name IN {cities} /*условие, где название региона входит в список городов-миллиоников*/\n",
        "'''\n"
      ]
    },
    {
      "cell_type": "code",
      "execution_count": 44,
      "id": "ttPhiO1rsvPq",
      "metadata": {
        "id": "ttPhiO1rsvPq"
      },
      "outputs": [
        {
          "data": {
            "text/html": [
              "<div>\n",
              "<style scoped>\n",
              "    .dataframe tbody tr th:only-of-type {\n",
              "        vertical-align: middle;\n",
              "    }\n",
              "\n",
              "    .dataframe tbody tr th {\n",
              "        vertical-align: top;\n",
              "    }\n",
              "\n",
              "    .dataframe thead th {\n",
              "        text-align: right;\n",
              "    }\n",
              "</style>\n",
              "<table border=\"1\" class=\"dataframe\">\n",
              "  <thead>\n",
              "    <tr style=\"text-align: right;\">\n",
              "      <th></th>\n",
              "      <th>Регионы-миллионники</th>\n",
              "      <th>Количество вакансий</th>\n",
              "    </tr>\n",
              "  </thead>\n",
              "  <tbody>\n",
              "    <tr>\n",
              "      <th>0</th>\n",
              "      <td>Total</td>\n",
              "      <td>485</td>\n",
              "    </tr>\n",
              "    <tr>\n",
              "      <th>1</th>\n",
              "      <td>Волгоград</td>\n",
              "      <td>24</td>\n",
              "    </tr>\n",
              "    <tr>\n",
              "      <th>2</th>\n",
              "      <td>Воронеж</td>\n",
              "      <td>32</td>\n",
              "    </tr>\n",
              "    <tr>\n",
              "      <th>3</th>\n",
              "      <td>Екатеринбург</td>\n",
              "      <td>39</td>\n",
              "    </tr>\n",
              "    <tr>\n",
              "      <th>4</th>\n",
              "      <td>Казань</td>\n",
              "      <td>25</td>\n",
              "    </tr>\n",
              "    <tr>\n",
              "      <th>5</th>\n",
              "      <td>Краснодар</td>\n",
              "      <td>30</td>\n",
              "    </tr>\n",
              "    <tr>\n",
              "      <th>6</th>\n",
              "      <td>Красноярск</td>\n",
              "      <td>23</td>\n",
              "    </tr>\n",
              "    <tr>\n",
              "      <th>7</th>\n",
              "      <td>Москва</td>\n",
              "      <td>54</td>\n",
              "    </tr>\n",
              "    <tr>\n",
              "      <th>8</th>\n",
              "      <td>Нижний Новгород</td>\n",
              "      <td>36</td>\n",
              "    </tr>\n",
              "    <tr>\n",
              "      <th>9</th>\n",
              "      <td>Новосибирск</td>\n",
              "      <td>35</td>\n",
              "    </tr>\n",
              "    <tr>\n",
              "      <th>10</th>\n",
              "      <td>Омск</td>\n",
              "      <td>21</td>\n",
              "    </tr>\n",
              "    <tr>\n",
              "      <th>11</th>\n",
              "      <td>Пермь</td>\n",
              "      <td>25</td>\n",
              "    </tr>\n",
              "    <tr>\n",
              "      <th>12</th>\n",
              "      <td>Ростов-на-Дону</td>\n",
              "      <td>25</td>\n",
              "    </tr>\n",
              "    <tr>\n",
              "      <th>13</th>\n",
              "      <td>Самара</td>\n",
              "      <td>26</td>\n",
              "    </tr>\n",
              "    <tr>\n",
              "      <th>14</th>\n",
              "      <td>Санкт-Петербург</td>\n",
              "      <td>42</td>\n",
              "    </tr>\n",
              "    <tr>\n",
              "      <th>15</th>\n",
              "      <td>Уфа</td>\n",
              "      <td>26</td>\n",
              "    </tr>\n",
              "    <tr>\n",
              "      <th>16</th>\n",
              "      <td>Челябинск</td>\n",
              "      <td>22</td>\n",
              "    </tr>\n",
              "  </tbody>\n",
              "</table>\n",
              "</div>"
            ],
            "text/plain": [
              "   Регионы-миллионники  Количество вакансий\n",
              "0                Total                  485\n",
              "1            Волгоград                   24\n",
              "2              Воронеж                   32\n",
              "3         Екатеринбург                   39\n",
              "4               Казань                   25\n",
              "5            Краснодар                   30\n",
              "6           Красноярск                   23\n",
              "7               Москва                   54\n",
              "8      Нижний Новгород                   36\n",
              "9          Новосибирск                   35\n",
              "10                Омск                   21\n",
              "11               Пермь                   25\n",
              "12      Ростов-на-Дону                   25\n",
              "13              Самара                   26\n",
              "14     Санкт-Петербург                   42\n",
              "15                 Уфа                   26\n",
              "16           Челябинск                   22"
            ]
          },
          "metadata": {},
          "output_type": "display_data"
        }
      ],
      "source": [
        "# результат запроса\n",
        "try:  # попытка выполнить запрос\n",
        "    # сохраняем в dataframe\n",
        "    df = pd.DataFrame(connection.execute(text(query_5_7)).fetchall())\n",
        "    display(df)  # выводим dataframe\n",
        "except exc.SQLAlchemyError:  # если не получилось выполнить запрос\n",
        "    display('Запрос к базе данных не выполнен!')  # выводим сообщение\n"
      ]
    },
    {
      "cell_type": "markdown",
      "id": "04966e40-3bc3-4dc8-9ba2-e80580ce3abc",
      "metadata": {
        "id": "04966e40-3bc3-4dc8-9ba2-e80580ce3abc"
      },
      "source": [
        "***"
      ]
    },
    {
      "cell_type": "code",
      "execution_count": null,
      "id": "aGGyER-yt4SR",
      "metadata": {
        "id": "aGGyER-yt4SR"
      },
      "outputs": [],
      "source": [
        "# выводы по анализу работодателей\n",
        "# Пятерку компанй по количеству вакансий составляют: Яндекс, Ростелеком, Тинькофф, СБЕР и Газпром нефть\n",
        "# Регионом с наибольшим количеством работодателей является Россия\n",
        "# Вакансии компании Яндекс представлены в 181 регионе\n",
        "# У 8419 работодателей не указана сфера деятельности\n",
        "# Тройку компаний, у которых указано четыре сферы деятельности составляют: 101 Интернет, 21vek.by и 2ГИС\n",
        "# У 3553 работодателей в качетсве сферы деятельности указана Разработка программного обеспечения\n",
        "# 485 вакансий компании Яндекс представлены в 16 городах-миллионниках России"
      ]
    },
    {
      "cell_type": "markdown",
      "id": "b1ef156a-efcb-49ce-bb23-90763e7f35b2",
      "metadata": {
        "id": "b1ef156a-efcb-49ce-bb23-90763e7f35b2",
        "tags": []
      },
      "source": [
        "# Юнит 6. Предметный анализ"
      ]
    },
    {
      "cell_type": "markdown",
      "id": "b9cd50a0-992d-4988-8463-2b2b1c4629b4",
      "metadata": {
        "id": "b9cd50a0-992d-4988-8463-2b2b1c4629b4"
      },
      "source": [
        "1. Сколько вакансий имеет отношение к данным?\n",
        "\n",
        "Считаем, что вакансия имеет отношение к данным, если в её названии содержатся слова 'data' или 'данн'.\n",
        "\n",
        "*Подсказка: Обратите внимание, что названия вакансий могут быть написаны в любом регистре.* \n"
      ]
    },
    {
      "cell_type": "code",
      "execution_count": 45,
      "id": "54ab0e50-c0f1-47cc-a54b-bc5c8bc363f9",
      "metadata": {
        "id": "54ab0e50-c0f1-47cc-a54b-bc5c8bc363f9"
      },
      "outputs": [],
      "source": [
        "# текст запроса\n",
        "query_6_1 = f'''\n",
        "SELECT\n",
        "  COUNT(1) AS \"Количество вакансий\" /*подсчет всех строк и назначение алиаса*/\n",
        "FROM\n",
        "  public.vacancies AS v /*из таблицы вакансий и назначение алиаса*/\n",
        "WHERE\n",
        "  (LOWER(v.name) LIKE '%data%') /*условие, где в названии вакансии встречается \"data\", написанное с маленькой буквы*/\n",
        "  OR (LOWER(v.name) LIKE '%данн%') /*условие, где в названии вакансии встречается \"данн\", написанное с маленькой буквы*/\n",
        "'''\n"
      ]
    },
    {
      "cell_type": "code",
      "execution_count": 46,
      "id": "9F1meAqsuUjd",
      "metadata": {
        "id": "9F1meAqsuUjd"
      },
      "outputs": [
        {
          "data": {
            "text/html": [
              "<div>\n",
              "<style scoped>\n",
              "    .dataframe tbody tr th:only-of-type {\n",
              "        vertical-align: middle;\n",
              "    }\n",
              "\n",
              "    .dataframe tbody tr th {\n",
              "        vertical-align: top;\n",
              "    }\n",
              "\n",
              "    .dataframe thead th {\n",
              "        text-align: right;\n",
              "    }\n",
              "</style>\n",
              "<table border=\"1\" class=\"dataframe\">\n",
              "  <thead>\n",
              "    <tr style=\"text-align: right;\">\n",
              "      <th></th>\n",
              "      <th>Количество вакансий</th>\n",
              "    </tr>\n",
              "  </thead>\n",
              "  <tbody>\n",
              "    <tr>\n",
              "      <th>0</th>\n",
              "      <td>1771</td>\n",
              "    </tr>\n",
              "  </tbody>\n",
              "</table>\n",
              "</div>"
            ],
            "text/plain": [
              "   Количество вакансий\n",
              "0                 1771"
            ]
          },
          "metadata": {},
          "output_type": "display_data"
        }
      ],
      "source": [
        "# результат запроса\n",
        "try:  # попытка выполнить запрос\n",
        "    # сохраняем в dataframe\n",
        "    df = pd.DataFrame(connection.execute(text(query_6_1)).fetchall())\n",
        "    display(df)  # выводим dataframe\n",
        "except exc.SQLAlchemyError:  # если не получилось выполнить запрос\n",
        "    display('Запрос к базе данных не выполнен!')  # выводим сообщение\n"
      ]
    },
    {
      "cell_type": "markdown",
      "id": "4dea20cb-a36b-474a-a0b9-e08e8e3857a5",
      "metadata": {
        "id": "4dea20cb-a36b-474a-a0b9-e08e8e3857a5"
      },
      "source": [
        "2. Сколько есть подходящих вакансий для начинающего дата-сайентиста? \n",
        "Будем считать вакансиями для дата-сайентистов такие, в названии которых есть хотя бы одно из следующих сочетаний:\n",
        "* 'data scientist'\n",
        "* 'data science'\n",
        "* 'исследователь данных'\n",
        "* 'ML' (здесь не нужно брать вакансии по HTML)\n",
        "* 'machine learning'\n",
        "* 'машинн%обучен%'\n",
        "\n",
        "** В следующих заданиях мы продолжим работать с вакансиями по этому условию.*\n",
        "\n",
        "Считаем вакансиями для специалистов уровня Junior следующие:\n",
        "* в названии есть слово 'junior' *или*\n",
        "* требуемый опыт — Нет опыта *или*\n",
        "* тип трудоустройства — Стажировка.\n",
        " "
      ]
    },
    {
      "cell_type": "code",
      "execution_count": 51,
      "id": "9c61b3c0-bb66-46c9-ae1e-81d3f5752b4a",
      "metadata": {
        "id": "9c61b3c0-bb66-46c9-ae1e-81d3f5752b4a"
      },
      "outputs": [],
      "source": [
        "# текст запроса\n",
        "query_6_2 = f'''\n",
        "SELECT\n",
        "  COUNT(1) AS \"Количество вакансий\" /*подсчет всех строк и назначение алиаса*/\n",
        "FROM\n",
        "  public.vacancies AS v /*из таблицы вакансий и назначение алиаса*/\n",
        "WHERE\n",
        "  (\n",
        "    (LOWER(v.name) LIKE '%data scientist%') /*условие, где в названии вакансии встречается \"data scientist\", написанное с маленькой буквы*/\n",
        "    OR (LOWER(v.name) LIKE '%data science%') /*условие, где в названии вакансии встречается \"data science\", написанное с маленькой буквы*/\n",
        "    OR (LOWER(v.name) LIKE '%исследователь данных%') /*условие, где в названии вакансии встречается \"исследователь данных\", написанное с маленькой буквы*/\n",
        "    OR (\n",
        "      v.name LIKE '%ML%' /*условие, где в названии вакансии встречается \"ML\"*/\n",
        "      AND v.name NOT LIKE '%HTML%' /*условие, где в названии вакансии не встречается \"HTML\"*/\n",
        "    )\n",
        "    OR (LOWER(v.name) LIKE '%machine learning%') /*условие, где в названии вакансии встречается \"machine learning\", написанное с маленькой буквы*/\n",
        "    OR (LOWER(v.name) LIKE '%машинн%обучен%') /*условие, где в названии вакансии встречается \"машинн обучен\", написанное с маленькой буквы*/\n",
        "  )\n",
        "  AND (\n",
        "    (LOWER(v.name) LIKE '%junior%') /*условие, где в названии вакансии встречается \"junior\", написанное с маленькой буквы*/\n",
        "    OR (v.experience='Нет опыта') /*условие, где опыт равен \"Нет опыта\"*/\n",
        "    OR (v.schedule='Стажировка') /*условие. где тип трудоустройства равен \"Стажировка\"*/\n",
        "  )\n",
        "'''\n"
      ]
    },
    {
      "cell_type": "code",
      "execution_count": 52,
      "id": "ZNM-LLYuu1dj",
      "metadata": {
        "id": "ZNM-LLYuu1dj"
      },
      "outputs": [
        {
          "data": {
            "text/html": [
              "<div>\n",
              "<style scoped>\n",
              "    .dataframe tbody tr th:only-of-type {\n",
              "        vertical-align: middle;\n",
              "    }\n",
              "\n",
              "    .dataframe tbody tr th {\n",
              "        vertical-align: top;\n",
              "    }\n",
              "\n",
              "    .dataframe thead th {\n",
              "        text-align: right;\n",
              "    }\n",
              "</style>\n",
              "<table border=\"1\" class=\"dataframe\">\n",
              "  <thead>\n",
              "    <tr style=\"text-align: right;\">\n",
              "      <th></th>\n",
              "      <th>Количество вакансий</th>\n",
              "    </tr>\n",
              "  </thead>\n",
              "  <tbody>\n",
              "    <tr>\n",
              "      <th>0</th>\n",
              "      <td>51</td>\n",
              "    </tr>\n",
              "  </tbody>\n",
              "</table>\n",
              "</div>"
            ],
            "text/plain": [
              "   Количество вакансий\n",
              "0                   51"
            ]
          },
          "metadata": {},
          "output_type": "display_data"
        }
      ],
      "source": [
        "# результат запроса\n",
        "try:  # попытка выполнить запрос\n",
        "    # сохраняем в dataframe\n",
        "    df = pd.DataFrame(connection.execute(text(query_6_2)).fetchall())\n",
        "    display(df)  # выводим dataframe\n",
        "except exc.SQLAlchemyError:  # если не получилось выполнить запрос\n",
        "    display('Запрос к базе данных не выполнен!')  # выводим сообщение\n"
      ]
    },
    {
      "cell_type": "markdown",
      "id": "eedceb80-c5ca-480e-b27a-278dfb8b4438",
      "metadata": {
        "id": "eedceb80-c5ca-480e-b27a-278dfb8b4438"
      },
      "source": [
        "3. Сколько есть вакансий для DS, в которых в качестве ключевого навыка указан SQL или postgres?\n",
        "\n",
        "** Критерии для отнесения вакансии к DS указаны в предыдущем задании.*"
      ]
    },
    {
      "cell_type": "code",
      "execution_count": 3,
      "id": "69621713-0cc5-4f1b-a1d7-bb144fa6148c",
      "metadata": {
        "id": "69621713-0cc5-4f1b-a1d7-bb144fa6148c"
      },
      "outputs": [],
      "source": [
        "# текст запроса\n",
        "query_6_3 = f'''\n",
        "SELECT\n",
        "  COUNT(1) AS \"Количество вакансий\" /*подсчет всех строк и назначение алиаса*/\n",
        "FROM\n",
        "  public.vacancies AS v /*из таблицы вакансий и назначение алиаса*/\n",
        "WHERE\n",
        "  (\n",
        "    (LOWER(v.name) LIKE '%data scientist%') /*условие, где в названии вакансии встречается \"data scientist\", написанное с маленькой буквы*/\n",
        "    OR (LOWER(v.name) LIKE '%data science%') /*условие, где в названии вакансии встречается \"data science\", написанное с маленькой буквы*/\n",
        "    OR (LOWER(v.name) LIKE '%исследователь данных%') /*условие, где в названии вакансии встречается \"исследователь данных\", написанное с маленькой буквы*/\n",
        "    OR (\n",
        "      v.name LIKE '%ML%' /*условие, где в названии вакансии встречается \"ML\"*/\n",
        "      AND v.name NOT LIKE '%HTML%' /*условие, где в названии вакансии не встречается \"HTML\"*/\n",
        "    )\n",
        "    OR (LOWER(v.name) LIKE '%machine learning%') /*условие, где в названии вакансии встречается \"machine learning\", написанное с маленькой буквы*/\n",
        "    OR (LOWER(v.name) LIKE '%машинн%обучен%') /*условие, где в названии вакансии встречается \"машинн обучен\", написанное с маленькой буквы*/\n",
        "  )\n",
        "  AND (\n",
        "    (LOWER(v.key_skills) LIKE '%sql%') /*условие, где в качестве названии ключевых навыков встречается \"sql\", написанное с маленькой буквы*/\n",
        "    OR (LOWER(v.key_skills) LIKE '%postgres%') /*условие, где в качестве названии ключевых навыков встречается \"postgres\", написанное с маленькой буквы*/\n",
        "  )\n",
        "'''\n"
      ]
    },
    {
      "cell_type": "code",
      "execution_count": 4,
      "id": "alA8WEAAvGdf",
      "metadata": {
        "id": "alA8WEAAvGdf"
      },
      "outputs": [
        {
          "data": {
            "text/html": [
              "<div>\n",
              "<style scoped>\n",
              "    .dataframe tbody tr th:only-of-type {\n",
              "        vertical-align: middle;\n",
              "    }\n",
              "\n",
              "    .dataframe tbody tr th {\n",
              "        vertical-align: top;\n",
              "    }\n",
              "\n",
              "    .dataframe thead th {\n",
              "        text-align: right;\n",
              "    }\n",
              "</style>\n",
              "<table border=\"1\" class=\"dataframe\">\n",
              "  <thead>\n",
              "    <tr style=\"text-align: right;\">\n",
              "      <th></th>\n",
              "      <th>Количество вакансий</th>\n",
              "    </tr>\n",
              "  </thead>\n",
              "  <tbody>\n",
              "    <tr>\n",
              "      <th>0</th>\n",
              "      <td>201</td>\n",
              "    </tr>\n",
              "  </tbody>\n",
              "</table>\n",
              "</div>"
            ],
            "text/plain": [
              "   Количество вакансий\n",
              "0                  201"
            ]
          },
          "metadata": {},
          "output_type": "display_data"
        }
      ],
      "source": [
        "# результат запроса\n",
        "try:  # попытка выполнить запрос\n",
        "    # сохраняем в dataframe\n",
        "    df = pd.DataFrame(connection.execute(text(query_6_3)).fetchall())\n",
        "    display(df)  # выводим dataframe\n",
        "except exc.SQLAlchemyError:  # если не получилось выполнить запрос\n",
        "    display('Запрос к базе данных не выполнен!')  # выводим сообщение\n"
      ]
    },
    {
      "cell_type": "markdown",
      "id": "1be1e9c6-37cf-4a5f-bfeb-04cab799dc80",
      "metadata": {
        "id": "1be1e9c6-37cf-4a5f-bfeb-04cab799dc80"
      },
      "source": [
        "4. Проверьте, насколько популярен Python в требованиях работодателей к DS.Для этого вычислите количество вакансий, в которых в качестве ключевого навыка указан Python.\n",
        "\n",
        "** Это можно сделать помощью запроса, аналогичного предыдущему.*"
      ]
    },
    {
      "cell_type": "code",
      "execution_count": 5,
      "id": "0036a355-9ccf-4564-8b01-73d8194297e7",
      "metadata": {
        "id": "0036a355-9ccf-4564-8b01-73d8194297e7"
      },
      "outputs": [],
      "source": [
        "# текст запроса\n",
        "query_6_4 = f'''\n",
        "SELECT\n",
        "  COUNT(1) AS \"Количество вакансий\" /*подсчет всех строк и назначение алиаса*/\n",
        "FROM\n",
        "  public.vacancies AS v /*из таблицы вакансий и назначение алиаса*/\n",
        "WHERE\n",
        "  (\n",
        "    (LOWER(v.name) LIKE '%data scientist%') /*условие, где в названии вакансии встречается \"data scientist\", написанное с маленькой буквы*/\n",
        "    OR (LOWER(v.name) LIKE '%data science%') /*условие, где в названии вакансии встречается \"data science\", написанное с маленькой буквы*/\n",
        "    OR (LOWER(v.name) LIKE '%исследователь данных%') /*условие, где в названии вакансии встречается \"исследователь данных\", написанное с маленькой буквы*/\n",
        "    OR (\n",
        "      v.name LIKE '%ML%' /*условие, где в названии вакансии встречается \"ML\"*/\n",
        "      AND v.name NOT LIKE '%HTML%' /*условие, где в названии вакансии не встречается \"HTML\"*/\n",
        "    )\n",
        "    OR (LOWER(v.name) LIKE '%machine learning%') /*условие, где в названии вакансии встречается \"machine learning\", написанное с маленькой буквы*/\n",
        "    OR (LOWER(v.name) LIKE '%машинн%обучен%') /*условие, где в названии вакансии встречается \"машинн обучен\", написанное с маленькой буквы*/\n",
        "  )\n",
        "  AND (LOWER(v.key_skills) LIKE '%python%') /*условие, где в качестве названии ключевых навыков встречается \"python\", написанное с маленькой буквы*/\n",
        "'''\n"
      ]
    },
    {
      "cell_type": "code",
      "execution_count": 6,
      "id": "1i-5WyucvQ6v",
      "metadata": {
        "id": "1i-5WyucvQ6v"
      },
      "outputs": [
        {
          "data": {
            "text/html": [
              "<div>\n",
              "<style scoped>\n",
              "    .dataframe tbody tr th:only-of-type {\n",
              "        vertical-align: middle;\n",
              "    }\n",
              "\n",
              "    .dataframe tbody tr th {\n",
              "        vertical-align: top;\n",
              "    }\n",
              "\n",
              "    .dataframe thead th {\n",
              "        text-align: right;\n",
              "    }\n",
              "</style>\n",
              "<table border=\"1\" class=\"dataframe\">\n",
              "  <thead>\n",
              "    <tr style=\"text-align: right;\">\n",
              "      <th></th>\n",
              "      <th>Количество вакансий</th>\n",
              "    </tr>\n",
              "  </thead>\n",
              "  <tbody>\n",
              "    <tr>\n",
              "      <th>0</th>\n",
              "      <td>351</td>\n",
              "    </tr>\n",
              "  </tbody>\n",
              "</table>\n",
              "</div>"
            ],
            "text/plain": [
              "   Количество вакансий\n",
              "0                  351"
            ]
          },
          "metadata": {},
          "output_type": "display_data"
        }
      ],
      "source": [
        "# результат запроса\n",
        "try:  # попытка выполнить запрос\n",
        "    # сохраняем в dataframe\n",
        "    df = pd.DataFrame(connection.execute(text(query_6_4)).fetchall())\n",
        "    display(df)  # выводим dataframe\n",
        "except exc.SQLAlchemyError:  # если не получилось выполнить запрос\n",
        "    display('Запрос к базе данных не выполнен!')  # выводим сообщение\n"
      ]
    },
    {
      "cell_type": "markdown",
      "id": "ec3c8db7-fa21-4a41-a994-1af63742a642",
      "metadata": {
        "id": "ec3c8db7-fa21-4a41-a994-1af63742a642"
      },
      "source": [
        "5. Сколько ключевых навыков в среднем указывают в вакансиях для DS?\n",
        "Ответ округлите до двух знаков после точки-разделителя."
      ]
    },
    {
      "cell_type": "code",
      "execution_count": 7,
      "id": "949132bc-d5b6-4611-8218-0b9a504d74f4",
      "metadata": {
        "id": "949132bc-d5b6-4611-8218-0b9a504d74f4"
      },
      "outputs": [],
      "source": [
        "# текст запроса\n",
        "query_6_5 = f'''\n",
        "SELECT\n",
        "  ROUND(\n",
        "    AVG(\n",
        "      LENGTH (v.key_skills)-LENGTH (REPLACE (v.key_skills, chr (9), ''))+1\n",
        "    ),\n",
        "    2\n",
        "  ) AS \"Среднее количество\" /*округление до двух знаков после запятой, вычисление среднего и назначение алиаса*/\n",
        "FROM\n",
        "  public.vacancies AS v /*из таблицы вакансий и назначение алиаса*/\n",
        "WHERE\n",
        "  (\n",
        "    (LOWER(v.name) LIKE '%data scientist%') /*условие, где в названии вакансии встречается \"data scientist\", написанное с маленькой буквы*/\n",
        "    OR (LOWER(v.name) LIKE '%data science%') /*условие, где в названии вакансии встречается \"data science\", написанное с маленькой буквы*/\n",
        "    OR (LOWER(v.name) LIKE '%исследователь данных%') /*условие, где в названии вакансии встречается \"исследователь данных\", написанное с маленькой буквы*/\n",
        "    OR (\n",
        "      v.name LIKE '%ML%' /*условие, где в названии вакансии встречается \"ML\"*/\n",
        "      AND v.name NOT LIKE '%HTML%' /*условие, где в названии вакансии не встречается \"HTML\"*/\n",
        "    )\n",
        "    OR (LOWER(v.name) LIKE '%machine learning%') /*условие, где в названии вакансии встречается \"machine learning\", написанное с маленькой буквы*/\n",
        "    OR (LOWER(v.name) LIKE '%машинн%обучен%') /*условие, где в названии вакансии встречается \"машинн обучен\", написанное с маленькой буквы*/\n",
        "  )\n",
        "  AND (v.key_skills IS NOT NULL) /*условие, где столбец с ключевыми навыками не пустой*/\n",
        "'''\n"
      ]
    },
    {
      "cell_type": "code",
      "execution_count": 8,
      "id": "a3V24Tvmviqk",
      "metadata": {
        "id": "a3V24Tvmviqk"
      },
      "outputs": [
        {
          "data": {
            "text/html": [
              "<div>\n",
              "<style scoped>\n",
              "    .dataframe tbody tr th:only-of-type {\n",
              "        vertical-align: middle;\n",
              "    }\n",
              "\n",
              "    .dataframe tbody tr th {\n",
              "        vertical-align: top;\n",
              "    }\n",
              "\n",
              "    .dataframe thead th {\n",
              "        text-align: right;\n",
              "    }\n",
              "</style>\n",
              "<table border=\"1\" class=\"dataframe\">\n",
              "  <thead>\n",
              "    <tr style=\"text-align: right;\">\n",
              "      <th></th>\n",
              "      <th>Среднее количество</th>\n",
              "    </tr>\n",
              "  </thead>\n",
              "  <tbody>\n",
              "    <tr>\n",
              "      <th>0</th>\n",
              "      <td>6.41</td>\n",
              "    </tr>\n",
              "  </tbody>\n",
              "</table>\n",
              "</div>"
            ],
            "text/plain": [
              "  Среднее количество\n",
              "0               6.41"
            ]
          },
          "metadata": {},
          "output_type": "display_data"
        }
      ],
      "source": [
        "# результат запроса\n",
        "try:  # попытка выполнить запрос\n",
        "    # сохраняем в dataframe\n",
        "    df = pd.DataFrame(connection.execute(text(query_6_5)).fetchall())\n",
        "    display(df)  # выводим dataframe\n",
        "except exc.SQLAlchemyError:  # если не получилось выполнить запрос\n",
        "    display('Запрос к базе данных не выполнен!')  # выводим сообщение\n"
      ]
    },
    {
      "cell_type": "markdown",
      "id": "1041c17a-ca8f-4543-a0ca-32778914fb00",
      "metadata": {
        "id": "1041c17a-ca8f-4543-a0ca-32778914fb00"
      },
      "source": [
        "6. Напишите запрос, позволяющий вычислить, какую зарплату для DS в **среднем** указывают для каждого типа требуемого опыта (уникальное значение из поля *experience*). \n",
        "\n",
        "При решении задачи примите во внимание следующее:\n",
        "1. Рассматриваем только вакансии, у которых заполнено хотя бы одно из двух полей с зарплатой.\n",
        "2. Если заполнены оба поля с зарплатой, то считаем зарплату по каждой вакансии как сумму двух полей, делённую на 2. Если заполнено только одно из полей, то его и считаем зарплатой по вакансии.\n",
        "3. Если в расчётах участвует null, в результате он тоже даст null (посмотрите, что возвращает запрос select 1 + null). Чтобы избежать этой ситуацию, мы воспользуемся функцией [coalesce](https://postgrespro.ru/docs/postgresql/9.5/functions-conditional#functions-coalesce-nvl-ifnull), которая заменит null на значение, которое мы передадим. Например, посмотрите, что возвращает запрос `select 1 + coalesce(null, 0)`\n",
        "\n",
        "Выясните, на какую зарплату в среднем может рассчитывать дата-сайентист с опытом работы от 3 до 6 лет. Результат округлите до целого числа. "
      ]
    },
    {
      "cell_type": "code",
      "execution_count": 9,
      "id": "6a743d39-5204-48d3-8271-b9f88e68d40e",
      "metadata": {
        "id": "6a743d39-5204-48d3-8271-b9f88e68d40e"
      },
      "outputs": [],
      "source": [
        "# текст запроса\n",
        "query_6_6 = f'''\n",
        "SELECT\n",
        "  v.experience \"Требуемый опыт\", /*столбец с опытом работы и назначение алиаса*/\n",
        "  ROUND(\n",
        "    AVG(\n",
        "      (\n",
        "        COALESCE(v.salary_from, v.salary_to)+COALESCE(v.salary_to, v.salary_from)\n",
        "      )/2\n",
        "    )\n",
        "  ) AS \"Средняя зарплата\" /*округление, вычисление среднего с заменой пустых значений и назначение алиаса*/\n",
        "FROM\n",
        "  public.vacancies AS v /*из таблицы вакансий и назначение алиаса*/\n",
        "WHERE\n",
        "  (\n",
        "    (LOWER(v.name) LIKE '%data scientist%') /*условие, где в названии вакансии встречается \"data scientist\", написанное с маленькой буквы*/\n",
        "    OR (LOWER(v.name) LIKE '%data science%') /*условие, где в названии вакансии встречается \"data science\", написанное с маленькой буквы*/\n",
        "    OR (LOWER(v.name) LIKE '%исследователь данных%') /*условие, где в названии вакансии встречается \"исследователь данных\", написанное с маленькой буквы*/\n",
        "    OR (\n",
        "      v.name LIKE '%ML%' /*условие, где в названии вакансии встречается \"ML\"*/\n",
        "      AND v.name NOT LIKE '%HTML%' /*условие, где в названии вакансии не встречается \"HTML\"*/\n",
        "    )\n",
        "    OR (LOWER(v.name) LIKE '%machine learning%') /*условие, где в названии вакансии встречается \"machine learning\", написанное с маленькой буквы*/\n",
        "    OR (LOWER(v.name) LIKE '%машинн%обучен%') /*условие, где в названии вакансии встречается \"машинн обучен\", написанное с маленькой буквы*/\n",
        "  )\n",
        "  AND (\n",
        "    (v.salary_from IS NOT NULL) /*условие, где столбец с зарплатой от не пустой*/\n",
        "    OR (v.salary_to IS NOT NULL) /*условие, где столбец с зарплатой до не пустой*/\n",
        "  )\n",
        "GROUP BY\n",
        "  v.experience /*группировка по столбцу с опытом работы*/\n",
        "'''\n"
      ]
    },
    {
      "cell_type": "code",
      "execution_count": 10,
      "id": "aRIJ0mZEwU1_",
      "metadata": {
        "id": "aRIJ0mZEwU1_"
      },
      "outputs": [
        {
          "data": {
            "text/html": [
              "<div>\n",
              "<style scoped>\n",
              "    .dataframe tbody tr th:only-of-type {\n",
              "        vertical-align: middle;\n",
              "    }\n",
              "\n",
              "    .dataframe tbody tr th {\n",
              "        vertical-align: top;\n",
              "    }\n",
              "\n",
              "    .dataframe thead th {\n",
              "        text-align: right;\n",
              "    }\n",
              "</style>\n",
              "<table border=\"1\" class=\"dataframe\">\n",
              "  <thead>\n",
              "    <tr style=\"text-align: right;\">\n",
              "      <th></th>\n",
              "      <th>Требуемый опыт</th>\n",
              "      <th>Средняя зарплата</th>\n",
              "    </tr>\n",
              "  </thead>\n",
              "  <tbody>\n",
              "    <tr>\n",
              "      <th>0</th>\n",
              "      <td>Нет опыта</td>\n",
              "      <td>74643</td>\n",
              "    </tr>\n",
              "    <tr>\n",
              "      <th>1</th>\n",
              "      <td>От 1 года до 3 лет</td>\n",
              "      <td>139675</td>\n",
              "    </tr>\n",
              "    <tr>\n",
              "      <th>2</th>\n",
              "      <td>От 3 до 6 лет</td>\n",
              "      <td>243115</td>\n",
              "    </tr>\n",
              "  </tbody>\n",
              "</table>\n",
              "</div>"
            ],
            "text/plain": [
              "       Требуемый опыт Средняя зарплата\n",
              "0           Нет опыта            74643\n",
              "1  От 1 года до 3 лет           139675\n",
              "2       От 3 до 6 лет           243115"
            ]
          },
          "metadata": {},
          "output_type": "display_data"
        }
      ],
      "source": [
        "# результат запроса\n",
        "try:  # попытка выполнить запрос\n",
        "    # сохраняем в dataframe\n",
        "    df = pd.DataFrame(connection.execute(text(query_6_6)).fetchall())\n",
        "    display(df)  # выводим dataframe\n",
        "except exc.SQLAlchemyError:  # если не получилось выполнить запрос\n",
        "    display('Запрос к базе данных не выполнен!')  # выводим сообщение\n"
      ]
    },
    {
      "cell_type": "markdown",
      "id": "6a7892b4-4113-4746-adce-18aa2844f18e",
      "metadata": {
        "id": "6a7892b4-4113-4746-adce-18aa2844f18e"
      },
      "source": [
        "***"
      ]
    },
    {
      "cell_type": "code",
      "execution_count": null,
      "id": "UjLWUptVwY1o",
      "metadata": {
        "id": "UjLWUptVwY1o"
      },
      "outputs": [],
      "source": [
        "# выводы по предметному анализу\n",
        "# В базе находится 1771 вакансия имеющая отношения к данным\n",
        "# Для начинающего дата-сайентиста подходит 51 вакансия\n",
        "# В качестве ключевых навыков в 201 вакансии для DS указаны SQL или Postgres\n",
        "# В требованиях работодателей к DS Python указан в 351 вакансии\n",
        "# Среднее количество ключевых навыков в вакансиях для DS составляет 6,41\n",
        "# Средняя зарплата указанная в вакансиях для DS составляет: Нет опыта - 74643, От 1 года до 3 лет - 139675 и От 3 до 6 лет - 243115"
      ]
    },
    {
      "cell_type": "markdown",
      "id": "c0ED6fh7wiBT",
      "metadata": {
        "id": "c0ED6fh7wiBT"
      },
      "source": [
        "# Общий вывод по проекту"
      ]
    },
    {
      "cell_type": "code",
      "execution_count": null,
      "id": "h9B3BL-wwj18",
      "metadata": {
        "id": "h9B3BL-wwj18"
      },
      "outputs": [],
      "source": [
        "# подведем итог исследования, обобщите выводы\n",
        "# Из 49197 вакансий 1771 имеет отношения к данным и 51 вакансия подходит для начинающего дата-сайентиста\n",
        "# Из 23501 работодателя пятерку компаний по количеству вакансий составляют: Яндекс, Ростелеком, Тинькофф, СБЕР и Газпром нефть\n",
        "# Из 1362 регионов пятерку регионов по количеству вакансий составляют: Москва, Санкт-Петербург, Минск, Новосибирск, Алматы\n",
        "# Из 24073 вакансий, где заполнено одно из двух полей с зарплатой, среднее значение для нижней границы зарплатной вилки - 71065, а для верхней - 110537\n",
        "# Среди всех вакансий по популярности и сочетанию типа рабочего графика, а также типа трудоустройства является: Полный день, Удаленная работа и Полная занятость\n",
        "# Среди всех вакансий в порядке возрастания их количества по требуемому опыту работы является: Более 6 лет — Нет опыта — От 3 до 6 лет — От 1 года до 3 лет\n",
        "# Среди всех регионов по наибольшему количеству вакансий является Россия, а 485 вакансий компании Яндекс представлены в 181 регионе и в 16 городах-миллионниках России\n",
        "# Из всех представленных на сайте работодателей у 8419 не указана их сфера деятельности, а тройку компаний, у которых указано четыре сферы деятельности составляют: 101 Интернет, 21vek.by и 2ГИС\n",
        "# Из всех представленных на сайте работодателей у 3553 работодателей в качетсве сферы деятельности указана Разработка программного обеспечения\n",
        "\n",
        "# здесь можно (это будет плюсом) провести дополнительные исследования данных, сделать прогнозы, продумать варианты продолжения исследования\n"
      ]
    },
    {
      "cell_type": "markdown",
      "id": "102e1b9d",
      "metadata": {},
      "source": [
        "# Дополнительные исследования данных\n",
        "1. Узнаем пятёрку лидеров в сферах деятельности по количеству вакансий"
      ]
    },
    {
      "cell_type": "code",
      "execution_count": 6,
      "id": "c17d0253",
      "metadata": {},
      "outputs": [],
      "source": [
        "# текст запроса\n",
        "query_bonus_1 = f'''\n",
        "SELECT\n",
        "  COUNT(1) AS \"Количество вакансий\", /*подсчет всех строк и назначение алиаса*/\n",
        "  i.name AS \"Сфера деятельности\" /*столбец с названием сферы деятельности и назначение алиаса*/\n",
        "FROM\n",
        "  public.vacancies AS v /*из таблицы вакансий и назначение алиаса*/\n",
        "  /*присоединение таблицы employers (работодателей) по условию столбец с id-работодателя из таблицы вакансий равен столбцу с id из таблицы работодателей*/\n",
        "  JOIN public.employers AS e ON v.employer_id=e.id\n",
        "  /*присоединение таблицы employers_industries по условию столбец с id из таблицы работодателей равен столбцу с id-работодателя из таблицы employers_industries*/\n",
        "  JOIN public.employers_industries AS e_i ON e.id=e_i.employer_id\n",
        "  /*присоединение таблицы industries (сфера деятельности) по условию id-сферы деятельности из таблицы employers_industries равен столбцу с id из таблицы сфер деятельности*/\n",
        "  JOIN public.industries AS i ON e_i.industry_id=i.id\n",
        "GROUP BY\n",
        "  i.name /*группировка по столбцу с насзвание сфер деятельности*/\n",
        "ORDER BY\n",
        "  COUNT(1) DESC /*сортировка по убыванию*/\n",
        "LIMIT\n",
        "  5 /*ограничение вывода пятью значениями*/\n",
        "'''\n"
      ]
    },
    {
      "cell_type": "code",
      "execution_count": 7,
      "id": "6680989d",
      "metadata": {},
      "outputs": [
        {
          "data": {
            "text/html": [
              "<div>\n",
              "<style scoped>\n",
              "    .dataframe tbody tr th:only-of-type {\n",
              "        vertical-align: middle;\n",
              "    }\n",
              "\n",
              "    .dataframe tbody tr th {\n",
              "        vertical-align: top;\n",
              "    }\n",
              "\n",
              "    .dataframe thead th {\n",
              "        text-align: right;\n",
              "    }\n",
              "</style>\n",
              "<table border=\"1\" class=\"dataframe\">\n",
              "  <thead>\n",
              "    <tr style=\"text-align: right;\">\n",
              "      <th></th>\n",
              "      <th>Количество вакансий</th>\n",
              "      <th>Сфера деятельности</th>\n",
              "    </tr>\n",
              "  </thead>\n",
              "  <tbody>\n",
              "    <tr>\n",
              "      <th>0</th>\n",
              "      <td>12499</td>\n",
              "      <td>Разработка программного обеспечения</td>\n",
              "    </tr>\n",
              "    <tr>\n",
              "      <th>1</th>\n",
              "      <td>11034</td>\n",
              "      <td>Системная интеграция,  автоматизации технологи...</td>\n",
              "    </tr>\n",
              "    <tr>\n",
              "      <th>2</th>\n",
              "      <td>6413</td>\n",
              "      <td>Интернет-компания (поисковики, платежные систе...</td>\n",
              "    </tr>\n",
              "    <tr>\n",
              "      <th>3</th>\n",
              "      <td>2742</td>\n",
              "      <td>Банк</td>\n",
              "    </tr>\n",
              "    <tr>\n",
              "      <th>4</th>\n",
              "      <td>1585</td>\n",
              "      <td>Мобильная связь</td>\n",
              "    </tr>\n",
              "  </tbody>\n",
              "</table>\n",
              "</div>"
            ],
            "text/plain": [
              "   Количество вакансий                                 Сфера деятельности\n",
              "0                12499                Разработка программного обеспечения\n",
              "1                11034  Системная интеграция,  автоматизации технологи...\n",
              "2                 6413  Интернет-компания (поисковики, платежные систе...\n",
              "3                 2742                                               Банк\n",
              "4                 1585                                    Мобильная связь"
            ]
          },
          "metadata": {},
          "output_type": "display_data"
        }
      ],
      "source": [
        "# результат запроса\n",
        "try:  # попытка выполнить запрос\n",
        "    # сохраняем в dataframe\n",
        "    df = pd.DataFrame(connection.execute(text(query_bonus_1)).fetchall())\n",
        "    display(df)  # выводим dataframe\n",
        "except exc.SQLAlchemyError:  # если не получилось выполнить запрос\n",
        "    display('Запрос к базе данных не выполнен!')  # выводим сообщение\n"
      ]
    },
    {
      "cell_type": "markdown",
      "id": "008c4fdb",
      "metadata": {},
      "source": [
        "2. Узнаем пятёрку лидеров регионов по количеству вакансий, где сферами деятельности являются самые распространенные из них, с количеством более 10000 вакансий"
      ]
    },
    {
      "cell_type": "code",
      "execution_count": 19,
      "id": "ad6ba485",
      "metadata": {},
      "outputs": [],
      "source": [
        "# текст запроса\n",
        "query_bonus_2 = f'''\n",
        "SELECT\n",
        "  COUNT(1) AS \"Количество вакансий\", /*подсчет всех строк и назначение алиаса*/\n",
        "  a.name AS \"Регион\" /*столбец с названием региона и назначение алиаса*/\n",
        "FROM\n",
        "  public.vacancies AS v /*из таблицы вакансий и назначение алиаса*/\n",
        "  /*присоединение таблицы employers (работодателей) по условию столбец с id-работодателя из таблицы вакансий равен столбцу с id из таблицы работодателей*/\n",
        "  JOIN public.employers AS e ON v.employer_id=e.id\n",
        "  /*присоединение таблицы employers_industries по условию столбец с id из таблицы работодателей равен столбцу с id-работодателя из таблицы employers_industries*/\n",
        "  JOIN public.employers_industries AS e_i ON e.id=e_i.employer_id\n",
        "  /*присоединение таблицы industries (сфера деятельности) по условию столбец с id-сферы деятельности из таблицы employers_industries равен столбцу с id из таблицы сфер деятельности*/\n",
        "  JOIN public.industries AS i ON e_i.industry_id=i.id\n",
        "  /*присоединение таблицы areas (регионы) по условию столбец id-региона из таблицы вакансий равен столбцу с id из таблицы регонов*/\n",
        "  JOIN public.areas AS a ON v.area_id=a.id\n",
        "WHERE\n",
        "  i.name IN (\n",
        "    SELECT\n",
        "      i.name AS \"Сфера деятельности\" /*столбец с названием сферы деятельности и назначение алиаса*/\n",
        "    FROM\n",
        "      public.vacancies AS v /*из таблицы вакансий и назначение алиаса*/\n",
        "      /*присоединение таблицы employers (работодателей) по условию столбец с id-работодателя из таблицы вакансий равен столбцу с id из таблицы работодателей*/\n",
        "      JOIN public.employers AS e ON v.employer_id=e.id\n",
        "      /*присоединение таблицы employers_industries по условию столбец с id из таблицы работодателей равен столбцу с id-работодателя из таблицы employers_industries*/\n",
        "      JOIN public.employers_industries AS e_i ON e.id=e_i.employer_id\n",
        "      /*присоединение таблицы industries (сфера деятельности) по условию id-сферы деятельности из таблицы employers_industries равен столбцу с id из таблицы сфер деятельности*/\n",
        "      JOIN public.industries AS i ON e_i.industry_id=i.id\n",
        "    GROUP BY\n",
        "      i.name /*группировка по столбцу с насзвание сфер деятельности*/\n",
        "    HAVING\n",
        "      COUNT(1)>10000 /*фильтруем сгруппированные данные, где количество вакансий больше десяти тысяч*/\n",
        "    ORDER BY\n",
        "      COUNT(1) DESC /*сортировка по убыванию*/\n",
        "  ) /*условие, где названия сфер деятельности входит в список результатов вывода подзапроса*/\n",
        "GROUP BY\n",
        "  a.name /*группировка по названию региона*/\n",
        "ORDER BY\n",
        "  COUNT(1) DESC /*сортировка по убыванию*/\n",
        "LIMIT\n",
        "  5 /*ограничение вывода пятью значениями*/\n",
        "'''\n"
      ]
    },
    {
      "cell_type": "code",
      "execution_count": 20,
      "id": "c4e1b96d",
      "metadata": {},
      "outputs": [
        {
          "data": {
            "text/html": [
              "<div>\n",
              "<style scoped>\n",
              "    .dataframe tbody tr th:only-of-type {\n",
              "        vertical-align: middle;\n",
              "    }\n",
              "\n",
              "    .dataframe tbody tr th {\n",
              "        vertical-align: top;\n",
              "    }\n",
              "\n",
              "    .dataframe thead th {\n",
              "        text-align: right;\n",
              "    }\n",
              "</style>\n",
              "<table border=\"1\" class=\"dataframe\">\n",
              "  <thead>\n",
              "    <tr style=\"text-align: right;\">\n",
              "      <th></th>\n",
              "      <th>Количество вакансий</th>\n",
              "      <th>Регион</th>\n",
              "    </tr>\n",
              "  </thead>\n",
              "  <tbody>\n",
              "    <tr>\n",
              "      <th>0</th>\n",
              "      <td>2411</td>\n",
              "      <td>Москва</td>\n",
              "    </tr>\n",
              "    <tr>\n",
              "      <th>1</th>\n",
              "      <td>1587</td>\n",
              "      <td>Санкт-Петербург</td>\n",
              "    </tr>\n",
              "    <tr>\n",
              "      <th>2</th>\n",
              "      <td>1540</td>\n",
              "      <td>Минск</td>\n",
              "    </tr>\n",
              "    <tr>\n",
              "      <th>3</th>\n",
              "      <td>1056</td>\n",
              "      <td>Новосибирск</td>\n",
              "    </tr>\n",
              "    <tr>\n",
              "      <th>4</th>\n",
              "      <td>1009</td>\n",
              "      <td>Алматы</td>\n",
              "    </tr>\n",
              "  </tbody>\n",
              "</table>\n",
              "</div>"
            ],
            "text/plain": [
              "   Количество вакансий           Регион\n",
              "0                 2411           Москва\n",
              "1                 1587  Санкт-Петербург\n",
              "2                 1540            Минск\n",
              "3                 1056      Новосибирск\n",
              "4                 1009           Алматы"
            ]
          },
          "metadata": {},
          "output_type": "display_data"
        }
      ],
      "source": [
        "# результат запроса\n",
        "try:  # попытка выполнить запрос\n",
        "    # сохраняем в dataframe\n",
        "    df = pd.DataFrame(connection.execute(text(query_bonus_2)).fetchall())\n",
        "    display(df)  # выводим dataframe\n",
        "except exc.SQLAlchemyError:  # если не получилось выполнить запрос\n",
        "    display('Запрос к базе данных не выполнен!')  # выводим сообщение\n"
      ]
    },
    {
      "cell_type": "markdown",
      "id": "1ac76055",
      "metadata": {},
      "source": [
        "3. Согласно полученному списку регионов, видно, что результат выполнения запроса полностью совпадает с результатом, получившимся в задании 4.1, поэтому посчитаем соотношение в процентах количества вакансий, где сферами деятельности являются самые распространенные из них, по количеству более 10000 вакансий и их общего количества в данных регионах"
      ]
    },
    {
      "cell_type": "code",
      "execution_count": 21,
      "id": "5da2ce7e",
      "metadata": {},
      "outputs": [],
      "source": [
        "# текст запроса\n",
        "query_bonus_3 = f'''\n",
        "SELECT\n",
        "  ROUND((SUM(bonus.\"Количество вакансий\")/SUM(task.\"Количество вакансий\"))*100)::TEXT||'%' \"Соотношение\", bonus.\"Регион\"\n",
        "FROM (\n",
        "  SELECT\n",
        "    COUNT(1) AS \"Количество вакансий\", /*подсчет всех строк и назначение алиаса*/\n",
        "    a.name AS \"Регион\" /*столбец с названием региона и назначение алиаса*/\n",
        "  FROM\n",
        "    public.vacancies AS v /*из таблицы вакансий и назначение алиаса*/\n",
        "    /*присоединение таблицы employers (работодателей) по условию столбец с id-работодателя из таблицы вакансий равен столбцу с id из таблицы работодателей*/\n",
        "    JOIN public.employers AS e ON v.employer_id=e.id\n",
        "    /*присоединение таблицы employers_industries по условию столбец с id из таблицы работодателей равен столбцу с id-работодателя из таблицы employers_industries*/\n",
        "    JOIN public.employers_industries AS e_i ON e.id=e_i.employer_id\n",
        "    /*присоединение таблицы industries (сфера деятельности) по условию столбец с id-сферы деятельности из таблицы employers_industries равен столбцу с id из таблицы сфер деятельности*/\n",
        "    JOIN public.industries AS i ON e_i.industry_id=i.id\n",
        "    /*присоединение таблицы areas (регионы) по условию столбец id-региона из таблицы вакансий равен столбцу с id из таблицы регонов*/\n",
        "    JOIN public.areas AS a ON v.area_id=a.id\n",
        "  WHERE\n",
        "    i.name IN (\n",
        "      SELECT\n",
        "        i.name AS \"Сфера деятельности\" /*столбец с названием сферы деятельности и назначение алиаса*/\n",
        "      FROM\n",
        "        public.vacancies AS v /*из таблицы вакансий и назначение алиаса*/\n",
        "        /*присоединение таблицы employers (работодателей) по условию столбец с id-работодателя из таблицы вакансий равен столбцу с id из таблицы работодателей*/\n",
        "        JOIN public.employers AS e ON v.employer_id=e.id\n",
        "        /*присоединение таблицы employers_industries по условию столбец с id из таблицы работодателей равен столбцу с id-работодателя из таблицы employers_industries*/\n",
        "        JOIN public.employers_industries AS e_i ON e.id=e_i.employer_id\n",
        "        /*присоединение таблицы industries (сфера деятельности) по условию id-сферы деятельности из таблицы employers_industries равен столбцу с id из таблицы сфер деятельности*/\n",
        "        JOIN public.industries AS i ON e_i.industry_id=i.id\n",
        "      GROUP BY\n",
        "        i.name /*группировка по столбцу с насзвание сфер деятельности*/\n",
        "      HAVING\n",
        "        COUNT(1)>10000 /*фильтруем сгруппированные данные, где количество вакансий больше десяти тысяч*/\n",
        "      ORDER BY\n",
        "        COUNT(1) DESC /*сортировка по убыванию*/\n",
        "  ) /*условие, где названия сфер деятельности входит в список результатов вывода подзапроса*/\n",
        "  GROUP BY\n",
        "    a.name /*группировка по названию региона*/\n",
        "  ORDER BY\n",
        "    COUNT(1) DESC /*сортировка по убыванию*/\n",
        "  LIMIT\n",
        "    5 /*ограничение вывода пятью значениями*/\n",
        ") bonus\n",
        "JOIN (\n",
        "  SELECT\n",
        "    COUNT(1) AS \"Количество вакансий\", /*подсчет всех строк и назначение алиаса*/\n",
        "    a.name AS \"Регион\" /*столбец с назаванием региона и назначение алиаса*/\n",
        "  FROM\n",
        "    public.vacancies AS v /*из таблицы вакансий и назначение алиаса*/\n",
        "    JOIN public.areas AS a ON v.area_id=a.id /*присоединение таблицы регионов по условию столбец с id-региона из таблицы вакансий равен столбцу с id из таблицы регионов и назначение алиаса*/\n",
        "  GROUP BY\n",
        "    a.name /*группировка по столбцу с назаванием региона*/\n",
        "  ORDER BY\n",
        "    COUNT(1) DESC /*сортировка в порядке убывания*/\n",
        "  LIMIT\n",
        "    5 /*ограничение вывода пятью значениями, согласно заданию 4.1*/\n",
        ") task ON bonus.\"Регион\"=task.\"Регион\"\n",
        "GROUP BY\n",
        "  bonus.\"Регион\"\n",
        "ORDER BY\n",
        "  \"Соотношение\"\n",
        "'''\n"
      ]
    },
    {
      "cell_type": "code",
      "execution_count": 22,
      "id": "a867d224",
      "metadata": {},
      "outputs": [
        {
          "data": {
            "text/html": [
              "<div>\n",
              "<style scoped>\n",
              "    .dataframe tbody tr th:only-of-type {\n",
              "        vertical-align: middle;\n",
              "    }\n",
              "\n",
              "    .dataframe tbody tr th {\n",
              "        vertical-align: top;\n",
              "    }\n",
              "\n",
              "    .dataframe thead th {\n",
              "        text-align: right;\n",
              "    }\n",
              "</style>\n",
              "<table border=\"1\" class=\"dataframe\">\n",
              "  <thead>\n",
              "    <tr style=\"text-align: right;\">\n",
              "      <th></th>\n",
              "      <th>Соотношение</th>\n",
              "      <th>Регион</th>\n",
              "    </tr>\n",
              "  </thead>\n",
              "  <tbody>\n",
              "    <tr>\n",
              "      <th>0</th>\n",
              "      <td>45%</td>\n",
              "      <td>Москва</td>\n",
              "    </tr>\n",
              "    <tr>\n",
              "      <th>1</th>\n",
              "      <td>53%</td>\n",
              "      <td>Алматы</td>\n",
              "    </tr>\n",
              "    <tr>\n",
              "      <th>2</th>\n",
              "      <td>53%</td>\n",
              "      <td>Новосибирск</td>\n",
              "    </tr>\n",
              "    <tr>\n",
              "      <th>3</th>\n",
              "      <td>56%</td>\n",
              "      <td>Санкт-Петербург</td>\n",
              "    </tr>\n",
              "    <tr>\n",
              "      <th>4</th>\n",
              "      <td>73%</td>\n",
              "      <td>Минск</td>\n",
              "    </tr>\n",
              "  </tbody>\n",
              "</table>\n",
              "</div>"
            ],
            "text/plain": [
              "  Соотношение           Регион\n",
              "0         45%           Москва\n",
              "1         53%           Алматы\n",
              "2         53%      Новосибирск\n",
              "3         56%  Санкт-Петербург\n",
              "4         73%            Минск"
            ]
          },
          "metadata": {},
          "output_type": "display_data"
        }
      ],
      "source": [
        "# результат запроса\n",
        "try:  # попытка выполнить запрос\n",
        "    # сохраняем в dataframe\n",
        "    df = pd.DataFrame(connection.execute(text(query_bonus_3)).fetchall())\n",
        "    display(df)  # выводим dataframe\n",
        "except exc.SQLAlchemyError:  # если не получилось выполнить запрос\n",
        "    display('Запрос к базе данных не выполнен!')  # выводим сообщение\n"
      ]
    },
    {
      "cell_type": "code",
      "execution_count": null,
      "id": "32af5a8c",
      "metadata": {},
      "outputs": [],
      "source": [
        "# подведем итог дополнительного исследования данных\n",
        "# Самыми распространенными сферами деятельности по количеству вакансий являются:\n",
        "# \"Разработка программного обеспечения\" и \"Системная интеграция, автоматизации технологических и бизнес-процессов предприятия, ИТ-консалтинг\" более 10000 вакансий,\n",
        "# Интернет-компания (поисковики, платежные системы, соц.сети, информационно-познавательные и развлекательные ресурсы, продвижение сайтов и прочее) от 6000 до 6500 вакансий,\n",
        "# Банк от 2500 до 3000 вакансий,\n",
        "# Мобильная связь от 1500 до 2000 вакансий\n",
        "# Пятёрку регионов как по самыми распространенными сферам деятельности (более 10000), так и по общему количеству вакансий составляют: Москва, Санкт-Петербург, Минск, Новосибирск и Алматы\n",
        "# Процентное соотношение по количеству вакансий с вышеперечисленными сферами деятельности к общему количеству вакансий в первых пяти регионах составляет: \n",
        "# Москва - 45%, Алматы и Новосибирск - 53%, Санкт-Петербург - 56% и Минск - 73%"
      ]
    }
  ],
  "metadata": {
    "colab": {
      "collapsed_sections": [
        "8d62a9f3-f64e-4fe7-bdac-c4dffa16155e"
      ],
      "provenance": []
    },
    "kernelspec": {
      "display_name": "Python 3.8.10 64-bit",
      "language": "python",
      "name": "python3"
    },
    "language_info": {
      "codemirror_mode": {
        "name": "ipython",
        "version": 3
      },
      "file_extension": ".py",
      "mimetype": "text/x-python",
      "name": "python",
      "nbconvert_exporter": "python",
      "pygments_lexer": "ipython3",
      "version": "3.8.10"
    },
    "vscode": {
      "interpreter": {
        "hash": "9650cb4e16cdd4a8e8e2d128bf38d875813998db22a3c986335f89e0cb4d7bb2"
      }
    }
  },
  "nbformat": 4,
  "nbformat_minor": 5
}
